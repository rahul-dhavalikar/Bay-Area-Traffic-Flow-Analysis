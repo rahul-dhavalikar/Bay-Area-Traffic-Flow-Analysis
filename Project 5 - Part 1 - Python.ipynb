{
 "cells": [
  {
   "cell_type": "markdown",
   "metadata": {},
   "source": [
    "# Project 5 - Part 1"
   ]
  },
  {
   "cell_type": "markdown",
   "metadata": {},
   "source": [
    "Imports"
   ]
  },
  {
   "cell_type": "code",
   "execution_count": 234,
   "metadata": {},
   "outputs": [],
   "source": [
    "import os\n",
    "import pandas as pd\n",
    "import numpy as np\n",
    "import matplotlib.pyplot as plt\n",
    "import math"
   ]
  },
  {
   "cell_type": "markdown",
   "metadata": {},
   "source": [
    "## Question 2 - Forming the Edge List"
   ]
  },
  {
   "cell_type": "code",
   "execution_count": 235,
   "metadata": {},
   "outputs": [],
   "source": [
    "finDataPath = \"finance_data/data/\"\n",
    "\n",
    "closingData = dict()\n",
    "firstOpenData = dict()\n",
    "for subdir, dir, files in os.walk(finDataPath):\n",
    "    for file in files:\n",
    "        fileName = finDataPath + file\n",
    "        data = pd.read_csv(fileName)\n",
    "#         print(data.shape)\n",
    "        closeCol = data['Close']\n",
    "        if len(closeCol) != 765:\n",
    "            continue\n",
    "        closeColList  = closeCol.tolist()\n",
    "        key = file[:-4]\n",
    "        closingData[key] = closeColList\n",
    "        firstOpenData[key] = data['Open'].iloc[0]\n",
    "#         print(type(closeCol))\n",
    "        "
   ]
  },
  {
   "cell_type": "code",
   "execution_count": 236,
   "metadata": {},
   "outputs": [
    {
     "data": {
      "text/plain": [
       "765"
      ]
     },
     "execution_count": 236,
     "metadata": {},
     "output_type": "execute_result"
    }
   ],
   "source": [
    "len(closeColList)"
   ]
  },
  {
   "cell_type": "code",
   "execution_count": 237,
   "metadata": {},
   "outputs": [
    {
     "data": {
      "text/plain": [
       "'ZTS'"
      ]
     },
     "execution_count": 237,
     "metadata": {},
     "output_type": "execute_result"
    }
   ],
   "source": [
    "key"
   ]
  },
  {
   "cell_type": "code",
   "execution_count": 238,
   "metadata": {
    "scrolled": true
   },
   "outputs": [
    {
     "data": {
      "text/plain": [
       "494"
      ]
     },
     "execution_count": 238,
     "metadata": {},
     "output_type": "execute_result"
    }
   ],
   "source": [
    "len(closingData.keys())"
   ]
  },
  {
   "cell_type": "code",
   "execution_count": 239,
   "metadata": {},
   "outputs": [
    {
     "data": {
      "text/plain": [
       "{'A': 53.94,\n",
       " 'AAL': 35.860001000000004,\n",
       " 'AAP': 124.07,\n",
       " 'AAPL': 591.9999849999999,\n",
       " 'ABBV': 51.889998999999996,\n",
       " 'ABC': 64.760002,\n",
       " 'ABT': 38.650002,\n",
       " 'ACN': 80.18,\n",
       " 'ADBE': 61.689999,\n",
       " 'ADI': 51.380001,\n",
       " 'ADM': 43.740002000000004,\n",
       " 'ADP': 77.97000799999999,\n",
       " 'ADS': 242.440002,\n",
       " 'ADSK': 47.84,\n",
       " 'AEE': 41.419998,\n",
       " 'AEP': 53.990002000000004,\n",
       " 'AES': 14.46,\n",
       " 'AET': 71.800003,\n",
       " 'AFL': 62.689999,\n",
       " 'AGN': 204.669998,\n",
       " 'AIG': 53.02,\n",
       " 'AIV': 30.860001,\n",
       " 'AIZ': 67.389999,\n",
       " 'AJG': 45.110001000000004,\n",
       " 'AKAM': 53.490002000000004,\n",
       " 'ALB': 67.540001,\n",
       " 'ALK': 94.440002,\n",
       " 'ALL': 56.93,\n",
       " 'ALLE': 51.0,\n",
       " 'ALXN': 157.559998,\n",
       " 'AMAT': 19.110001,\n",
       " 'AMD': 4.13,\n",
       " 'AME': 52.549999,\n",
       " 'AMG': 199.100006,\n",
       " 'AMGN': 111.379997,\n",
       " 'AMP': 111.790001,\n",
       " 'AMT': 84.050003,\n",
       " 'AMZN': 304.130005,\n",
       " 'AN': 53.18,\n",
       " 'ANTM': 100.68,\n",
       " 'AON': 84.660004,\n",
       " 'APA': 86.769997,\n",
       " 'APC': 99.150002,\n",
       " 'APD': 117.569996,\n",
       " 'APH': 95.489998,\n",
       " 'ARE': 73.760002,\n",
       " 'ARNC': 13.45001,\n",
       " 'ATVI': 19.969998999999998,\n",
       " 'AVB': 136.759995,\n",
       " 'AVGO': 62.919998,\n",
       " 'AVY': 48.650002,\n",
       " 'AWK': 45.66,\n",
       " 'AXP': 87.529999,\n",
       " 'AYI': 124.75,\n",
       " 'AZO': 529.119995,\n",
       " 'BA': 128.740005,\n",
       " 'BAC': 15.14,\n",
       " 'BAX': 72.849997,\n",
       " 'BBBY': 62.369999,\n",
       " 'BBT': 37.349998,\n",
       " 'BBY': 26.129998999999998,\n",
       " 'BCR': 137.220001,\n",
       " 'BDX': 112.93,\n",
       " 'BEN': 52.380001,\n",
       " 'BF.B': 44.759997999999996,\n",
       " 'BHI': 69.57,\n",
       " 'BIIB': 287.109985,\n",
       " 'BK': 33.919998,\n",
       " 'BLK': 299.980011,\n",
       " 'BLL': 56.919998,\n",
       " 'BMY': 49.950001,\n",
       " 'BRK.B': 128.809998,\n",
       " 'BSX': 12.64,\n",
       " 'BWA': 62.080002,\n",
       " 'BXP': 117.33000200000001,\n",
       " 'C': 47.810001,\n",
       " 'CA': 30.07,\n",
       " 'CAG': 30.429997999999998,\n",
       " 'CAH': 66.769997,\n",
       " 'CAT': 105.199997,\n",
       " 'CB': 102.16999799999999,\n",
       " 'CBG': 29.0,\n",
       " 'CBOE': 53.349998,\n",
       " 'CBS': 57.849998,\n",
       " 'CCI': 72.860001,\n",
       " 'CCL': 39.299999,\n",
       " 'CELG': 147.25,\n",
       " 'CERN': 51.029999,\n",
       " 'CF': 244.740009,\n",
       " 'CHD': 68.989998,\n",
       " 'CHK': 28.810001,\n",
       " 'CHRW': 58.880001,\n",
       " 'CHTR': 135.360001,\n",
       " 'CI': 82.970001,\n",
       " 'CINF': 48.799999,\n",
       " 'CL': 67.18,\n",
       " 'CLX': 88.690002,\n",
       " 'CMA': 48.369999,\n",
       " 'CMCSA': 51.82,\n",
       " 'CME': 70.809998,\n",
       " 'CMG': 498.51000999999997,\n",
       " 'CMI': 150.46000700000002,\n",
       " 'CMS': 30.299999,\n",
       " 'CNC': 66.589996,\n",
       " 'CNP': 25.23,\n",
       " 'COF': 73.900002,\n",
       " 'COG': 39.259997999999996,\n",
       " 'COH': 43.959998999999996,\n",
       " 'COL': 77.599998,\n",
       " 'COO': 132.119995,\n",
       " 'COP': 75.010002,\n",
       " 'COST': 115.68,\n",
       " 'COTY': 15.99,\n",
       " 'CPB': 45.389998999999996,\n",
       " 'CRM': 51.900002,\n",
       " 'CSCO': 23.139999,\n",
       " 'CSX': 28.190001000000002,\n",
       " 'CTAS': 59.16,\n",
       " 'CTL': 34.91,\n",
       " 'CTSH': 47.959998999999996,\n",
       " 'CTXS': 60.159999,\n",
       " 'CVS': 72.440002,\n",
       " 'CVX': 125.660004,\n",
       " 'CXO': 129.419998,\n",
       " 'D': 72.58000200000001,\n",
       " 'DAL': 37.0,\n",
       " 'DD': 66.859999,\n",
       " 'DE': 93.150002,\n",
       " 'DFS': 55.759997999999996,\n",
       " 'DG': 56.709998999999996,\n",
       " 'DGX': 55.810001,\n",
       " 'DHI': 22.35,\n",
       " 'DHR': 73.380002,\n",
       " 'DIS': 79.349998,\n",
       " 'DISCA': 76.020004,\n",
       " 'DISCK': 70.480003,\n",
       " 'DISH': 59.139998999999996,\n",
       " 'DLPH': 66.760002,\n",
       " 'DLR': 53.290001000000004,\n",
       " 'DLTR': 52.34,\n",
       " 'DOV': 86.360001,\n",
       " 'DOW': 49.860001000000004,\n",
       " 'DPS': 55.5,\n",
       " 'DRI': 49.720001,\n",
       " 'DTE': 78.290001,\n",
       " 'DUK': 74.599998,\n",
       " 'DVA': 69.389999,\n",
       " 'DVN': 69.940002,\n",
       " 'DXC': 59.109997,\n",
       " 'EA': 28.48,\n",
       " 'EBAY': 52.02,\n",
       " 'ECL': 104.620003,\n",
       " 'ED': 58.099998,\n",
       " 'EFX': 70.809998,\n",
       " 'EIX': 56.77,\n",
       " 'EL': 72.209999,\n",
       " 'EMN': 87.040001,\n",
       " 'EMR': 68.120003,\n",
       " 'EOG': 98.33000200000001,\n",
       " 'EQIX': 188.009995,\n",
       " 'EQR': 58.0,\n",
       " 'EQT': 109.08000200000001,\n",
       " 'ES': 47.509997999999996,\n",
       " 'ESRX': 66.620003,\n",
       " 'ESS': 173.699997,\n",
       " 'ETFC': 22.48,\n",
       " 'ETN': 72.269997,\n",
       " 'ETR': 72.690002,\n",
       " 'EVHC': 33.709998999999996,\n",
       " 'EW': 81.269997,\n",
       " 'EXC': 35.450001,\n",
       " 'EXPD': 41.299999,\n",
       " 'EXPE': 71.300003,\n",
       " 'EXR': 52.439999,\n",
       " 'F': 16.15,\n",
       " 'FAST': 49.939999,\n",
       " 'FB': 60.43,\n",
       " 'FBHS': 42.139998999999996,\n",
       " 'FCX': 34.220001,\n",
       " 'FDX': 136.360001,\n",
       " 'FE': 33.810001,\n",
       " 'FFIV': 104.650002,\n",
       " 'FIS': 53.509997999999996,\n",
       " 'FISV': 60.790001000000004,\n",
       " 'FITB': 20.559998999999998,\n",
       " 'FL': 46.75,\n",
       " 'FLIR': 34.099998,\n",
       " 'FLR': 75.57,\n",
       " 'FLS': 73.019997,\n",
       " 'FMC': 76.739998,\n",
       " 'FOX': 31.25,\n",
       " 'FOXA': 32.080002,\n",
       " 'FRT': 117.879997,\n",
       " 'FTI': 56.650002,\n",
       " 'GD': 109.510002,\n",
       " 'GE': 26.73,\n",
       " 'GGP': 22.950001,\n",
       " 'GILD': 78.620003,\n",
       " 'GIS': 53.220001,\n",
       " 'GLW': 20.91,\n",
       " 'GM': 34.669998,\n",
       " 'GOOG': 527.112413,\n",
       " 'GOOGL': 534.25,\n",
       " 'GPC': 87.08000200000001,\n",
       " 'GPN': 67.0,\n",
       " 'GPS': 39.43,\n",
       " 'GRMN': 57.07,\n",
       " 'GS': 159.800003,\n",
       " 'GT': 25.280001000000002,\n",
       " 'GWW': 255.24000499999997,\n",
       " 'HAL': 63.130001,\n",
       " 'HAS': 55.139998999999996,\n",
       " 'HBAN': 9.18,\n",
       " 'HBI': 81.779999,\n",
       " 'HCA': 52.0,\n",
       " 'HCN': 63.02,\n",
       " 'HCP': 41.850001,\n",
       " 'HD': 79.510002,\n",
       " 'HES': 89.010002,\n",
       " 'HIG': 35.75,\n",
       " 'HOG': 74.0,\n",
       " 'HOLX': 22.4,\n",
       " 'HON': 92.83000200000001,\n",
       " 'HP': 107.510002,\n",
       " 'HPQ': 33.119997999999995,\n",
       " 'HRB': 28.440001000000002,\n",
       " 'HRL': 47.669998,\n",
       " 'HRS': 73.339996,\n",
       " 'HSIC': 114.849998,\n",
       " 'HST': 21.17,\n",
       " 'HSY': 96.029999,\n",
       " 'HUM': 110.519997,\n",
       " 'IBM': 196.309998,\n",
       " 'ICE': 204.78000600000001,\n",
       " 'IDXX': 126.449997,\n",
       " 'IFF': 98.690002,\n",
       " 'ILMN': 135.880005,\n",
       " 'INCY': 47.32,\n",
       " 'INTC': 26.51,\n",
       " 'INTU': 75.690002,\n",
       " 'IP': 46.519999,\n",
       " 'IPG': 17.459999,\n",
       " 'IR': 59.759997999999996,\n",
       " 'IRM': 28.430003999999997,\n",
       " 'ISRG': 365.23999,\n",
       " 'IT': 73.0,\n",
       " 'ITW': 85.150002,\n",
       " 'IVZ': 35.75,\n",
       " 'JBHT': 76.239998,\n",
       " 'JCI': 40.959998999999996,\n",
       " 'JEC': 57.68,\n",
       " 'JNJ': 100.769997,\n",
       " 'JNPR': 24.74,\n",
       " 'JPM': 55.919998,\n",
       " 'JWN': 61.470001,\n",
       " 'K': 66.940002,\n",
       " 'KEY': 13.62,\n",
       " 'KIM': 22.91,\n",
       " 'KLAC': 63.990002000000004,\n",
       " 'KMB': 111.80999299999999,\n",
       " 'KMI': 32.709998999999996,\n",
       " 'KMX': 43.869999,\n",
       " 'KO': 40.790001000000004,\n",
       " 'KORS': 91.050003,\n",
       " 'KR': 46.110001000000004,\n",
       " 'KSS': 54.889998999999996,\n",
       " 'KSU': 100.800003,\n",
       " 'L': 44.029999,\n",
       " 'LB': 54.330002,\n",
       " 'LEG': 32.84,\n",
       " 'LEN': 38.369999,\n",
       " 'LH': 98.639999,\n",
       " 'LKQ': 29.290001,\n",
       " 'LLL': 115.0,\n",
       " 'LLY': 59.18,\n",
       " 'LMT': 163.720001,\n",
       " 'LNC': 49.0,\n",
       " 'LNT': 58.650002,\n",
       " 'LOW': 46.049999,\n",
       " 'LRCX': 57.73,\n",
       " 'LUK': 25.5,\n",
       " 'LUV': 24.17,\n",
       " 'LVLT': 43.189999,\n",
       " 'LYB': 92.790001,\n",
       " 'M': 57.689999,\n",
       " 'MA': 75.57,\n",
       " 'MAA': 69.760002,\n",
       " 'MAC': 64.760002,\n",
       " 'MAR': 57.869999,\n",
       " 'MAS': 20.010001000000003,\n",
       " 'MAT': 39.549999,\n",
       " 'MCD': 100.68,\n",
       " 'MCHP': 47.57,\n",
       " 'MCK': 166.970001,\n",
       " 'MCO': 78.309998,\n",
       " 'MDLZ': 35.779999,\n",
       " 'MDT': 58.84,\n",
       " 'MET': 51.080002,\n",
       " 'MHK': 132.309998,\n",
       " 'MJN': 88.029999,\n",
       " 'MKC': 71.339996,\n",
       " 'MLM': 124.129997,\n",
       " 'MMC': 49.330002,\n",
       " 'MMM': 139.5,\n",
       " 'MNK': 71.559998,\n",
       " 'MNST': 67.059998,\n",
       " 'MO': 40.16,\n",
       " 'MON': 110.41999799999999,\n",
       " 'MOS': 50.009997999999996,\n",
       " 'MPC': 89.0,\n",
       " 'MRK': 58.549999,\n",
       " 'MRO': 36.23,\n",
       " 'MS': 30.91,\n",
       " 'MSFT': 40.240002000000004,\n",
       " 'MSI': 60.18,\n",
       " 'MTB': 122.230003,\n",
       " 'MTD': 233.49000499999997,\n",
       " 'MU': 26.209999,\n",
       " 'MUR': 61.0,\n",
       " 'MYL': 51.439999,\n",
       " 'NAVI': 16.120001000000002,\n",
       " 'NBL': 71.540001,\n",
       " 'NDAQ': 36.950001,\n",
       " 'NEE': 100.220001,\n",
       " 'NEM': 24.690001000000002,\n",
       " 'NFLX': 324.050007,\n",
       " 'NFX': 34.0,\n",
       " 'NI': 36.419998,\n",
       " 'NKE': 72.809998,\n",
       " 'NLSN': 47.009997999999996,\n",
       " 'NOC': 121.220001,\n",
       " 'NOV': 78.620002,\n",
       " 'NRG': 32.830002,\n",
       " 'NSC': 94.379997,\n",
       " 'NTAP': 35.689999,\n",
       " 'NTRS': 60.27,\n",
       " 'NUE': 51.650002,\n",
       " 'NVDA': 18.75,\n",
       " 'NWL': 30.040001,\n",
       " 'NWS': 16.6,\n",
       " 'NWSA': 17.209999,\n",
       " 'O': 43.610001000000004,\n",
       " 'OKE': 63.240002000000004,\n",
       " 'OMC': 67.540001,\n",
       " 'ORCL': 40.720001,\n",
       " 'ORLY': 148.990005,\n",
       " 'OXY': 95.740004,\n",
       " 'PAYX': 41.779999,\n",
       " 'PBCT': 14.29,\n",
       " 'PCAR': 63.73,\n",
       " 'PCG': 44.279999,\n",
       " 'PCLN': 1163.920044,\n",
       " 'PDCO': 40.540001000000004,\n",
       " 'PEG': 41.02,\n",
       " 'PEP': 86.0,\n",
       " 'PFE': 31.08,\n",
       " 'PFG': 46.720001,\n",
       " 'PG': 82.389999,\n",
       " 'PGR': 24.25,\n",
       " 'PH': 126.41999799999999,\n",
       " 'PHM': 18.41,\n",
       " 'PKI': 41.990002000000004,\n",
       " 'PLD': 40.630001,\n",
       " 'PM': 85.489998,\n",
       " 'PNC': 83.959999,\n",
       " 'PNR': 74.290001,\n",
       " 'PNW': 55.619999,\n",
       " 'PPG': 193.149994,\n",
       " 'PPL': 33.549999,\n",
       " 'PRGO': 145.149994,\n",
       " 'PRU': 80.660004,\n",
       " 'PSA': 175.270004,\n",
       " 'PSX': 83.269997,\n",
       " 'PVH': 125.470001,\n",
       " 'PWR': 35.279999,\n",
       " 'PX': 130.830002,\n",
       " 'PXD': 192.940002,\n",
       " 'QCOM': 78.529999,\n",
       " 'R': 82.129997,\n",
       " 'RAI': 56.470001,\n",
       " 'RCL': 53.099998,\n",
       " 'REG': 52.540001000000004,\n",
       " 'REGN': 297.100006,\n",
       " 'RF': 10.19,\n",
       " 'RHI': 44.650002,\n",
       " 'RHT': 48.59,\n",
       " 'RIG': 43.049999,\n",
       " 'RJF': 49.759997999999996,\n",
       " 'RL': 151.58999599999999,\n",
       " 'ROK': 118.709999,\n",
       " 'ROP': 138.91000400000001,\n",
       " 'ROST': 68.269997,\n",
       " 'RRC': 90.129997,\n",
       " 'RSG': 35.119999,\n",
       " 'RTN': 95.360001,\n",
       " 'SBUX': 70.75,\n",
       " 'SCG': 53.790001000000004,\n",
       " 'SCHW': 26.540001,\n",
       " 'SEE': 34.07,\n",
       " 'SHW': 199.5,\n",
       " 'SIG': 101.489998,\n",
       " 'SJM': 96.800003,\n",
       " 'SLB': 101.58000200000001,\n",
       " 'SLG': 104.32,\n",
       " 'SNA': 115.839996,\n",
       " 'SNI': 74.900002,\n",
       " 'SNPS': 37.77,\n",
       " 'SO': 45.099998,\n",
       " 'SPG': 173.089989,\n",
       " 'SPGI': 74.010002,\n",
       " 'SPLS': 12.46,\n",
       " 'SRCL': 116.25,\n",
       " 'SRE': 98.639999,\n",
       " 'STI': 38.240002000000004,\n",
       " 'STT': 64.550003,\n",
       " 'STX': 51.900002,\n",
       " 'STZ': 79.900002,\n",
       " 'SWK': 85.690002,\n",
       " 'SWKS': 41.200001,\n",
       " 'SYK': 77.739998,\n",
       " 'SYMC': 20.32,\n",
       " 'SYY': 36.470001,\n",
       " 'T': 35.75,\n",
       " 'TAP': 60.060001,\n",
       " 'TDC': 45.459998999999996,\n",
       " 'TDG': 177.600006,\n",
       " 'TEL': 59.080002,\n",
       " 'TGNA': 27.190001000000002,\n",
       " 'TGT': 61.849998,\n",
       " 'TIF': 87.449997,\n",
       " 'TJX': 58.139998999999996,\n",
       " 'TMK': 79.609995,\n",
       " 'TMO': 113.720001,\n",
       " 'TRIP': 81.510002,\n",
       " 'TROW': 82.099998,\n",
       " 'TRV': 90.639999,\n",
       " 'TSCO': 67.339996,\n",
       " 'TSN': 42.240002000000004,\n",
       " 'TSO': 57.439999,\n",
       " 'TSS': 31.790001,\n",
       " 'TWX': 67.160002,\n",
       " 'TXN': 45.91,\n",
       " 'TXT': 38.82,\n",
       " 'UAA': 48.939999,\n",
       " 'UAL': 40.77,\n",
       " 'UDR': 25.969998999999998,\n",
       " 'UHS': 82.16999799999999,\n",
       " 'ULTA': 87.599998,\n",
       " 'UNH': 75.050003,\n",
       " 'UNM': 33.200001,\n",
       " 'UNP': 190.300003,\n",
       " 'UPS': 98.5,\n",
       " 'URI': 94.160004,\n",
       " 'USB': 40.759997999999996,\n",
       " 'UTX': 118.029999,\n",
       " 'V': 204.100006,\n",
       " 'VAR': 79.260002,\n",
       " 'VFC': 61.099998,\n",
       " 'VIAB': 83.260002,\n",
       " 'VLO': 57.139998999999996,\n",
       " 'VMC': 64.559998,\n",
       " 'VNO': 102.63999100000001,\n",
       " 'VRSK': 59.959998999999996,\n",
       " 'VRSN': 47.32,\n",
       " 'VRTX': 67.540001,\n",
       " 'VTR': 65.989998,\n",
       " 'VZ': 46.630001,\n",
       " 'WAT': 98.18,\n",
       " 'WBA': 68.029999,\n",
       " 'WDC': 85.529999,\n",
       " 'WEC': 48.77,\n",
       " 'WFC': 49.740002000000004,\n",
       " 'WFM': 49.82,\n",
       " 'WHR': 152.96000700000002,\n",
       " 'WM': 44.389998999999996,\n",
       " 'WMB': 41.740002000000004,\n",
       " 'WMT': 79.730003,\n",
       " 'WU': 15.92,\n",
       " 'WY': 29.76,\n",
       " 'WYN': 71.339996,\n",
       " 'WYNN': 205.220001,\n",
       " 'XEC': 118.889999,\n",
       " 'XEL': 31.809998999999998,\n",
       " 'XL': 31.43,\n",
       " 'XLNX': 47.279999,\n",
       " 'XOM': 101.959999,\n",
       " 'XRAY': 44.73,\n",
       " 'XRX': 12.1,\n",
       " 'XYL': 37.529999,\n",
       " 'YHOO': 36.259997999999996,\n",
       " 'YUM': 76.92000300000001,\n",
       " 'ZBH': 97.0,\n",
       " 'ZION': 28.870001000000002,\n",
       " 'ZTS': 30.309998999999998}"
      ]
     },
     "execution_count": 239,
     "metadata": {},
     "output_type": "execute_result"
    }
   ],
   "source": [
    "firstOpenData"
   ]
  },
  {
   "cell_type": "code",
   "execution_count": 240,
   "metadata": {},
   "outputs": [],
   "source": [
    "finalStockData = dict()\n",
    "\n",
    "for stock in closingData:\n",
    "    finalStockData[stock] = dict()\n",
    "    p = closingData[stock]\n",
    "    \n",
    "    q = list()\n",
    "    r = list()\n",
    "    for i in range(1, len(p)):\n",
    "#         if i == 0:\n",
    "#             qVal = (p[i] - firstOpenData[stock]) / firstOpenData[stock]\n",
    "#         else:\n",
    "#             qVal = (p[i] - p[i - 1]) / p[i - 1]\n",
    "        qVal = (p[i] - p[i - 1]) / p[i - 1]    \n",
    "        q.append(qVal)\n",
    "#         print(qVal)\n",
    "#         rVal = 1 + qVal\n",
    "#         print(rVal)\n",
    "        rVal = np.log1p(qVal)\n",
    "        r.append(rVal)\n",
    "#         print(rVal)\n",
    "#         break\n",
    "    \n",
    "#     break\n",
    "    finalStockData[stock]['p'] = np.asarray(p)\n",
    "    finalStockData[stock]['q'] = np.asarray(q)\n",
    "    finalStockData[stock]['r'] = np.asarray(r)\n",
    "    finalStockData[stock]['r_avg'] = sum(r) / len(r)"
   ]
  },
  {
   "cell_type": "code",
   "execution_count": 241,
   "metadata": {},
   "outputs": [],
   "source": [
    "#is this graph directed or undirected??\n",
    "\n",
    "edgeList = list()\n",
    "\n",
    "stocks = list(finalStockData.keys())\n",
    "\n",
    "for i in range(len(stocks)):\n",
    "    for j in range(i + 1, len(stocks)):\n",
    "        stock_i = stocks[i]\n",
    "        stock_j = stocks[j]\n",
    "        r_i = finalStockData[stock_i]['r']\n",
    "        r_j = finalStockData[stock_j]['r']\n",
    "        r_i_avg = finalStockData[stock_i]['r_avg']\n",
    "        r_j_avg = finalStockData[stock_j]['r_avg']\n",
    "        \n",
    "        r_ij = np.multiply(r_i, r_j)\n",
    "        r_ij_avg = np.mean(r_ij)\n",
    "        \n",
    "        numerator = r_ij_avg - (r_i_avg * r_j_avg)\n",
    "        \n",
    "        denominator = np.sqrt((np.mean(np.square(r_i)) - np.square(r_i_avg)) * (np.mean(np.square(r_j)) - np.square(r_j_avg)))\n",
    "        p_ij = numerator / denominator\n",
    "        w_ij = np.sqrt((2 * (1 - p_ij)))\n",
    "        \n",
    "        edgeList.append([stock_i, stock_j, w_ij])"
   ]
  },
  {
   "cell_type": "code",
   "execution_count": 242,
   "metadata": {},
   "outputs": [],
   "source": [
    "#unnormalized weights\n",
    "weights = list()\n",
    "\n",
    "stocks = list(finalStockData.keys())\n",
    "\n",
    "for i in range(len(stocks)):\n",
    "    for j in range(i + 1, len(stocks)):\n",
    "        stock_i = stocks[i]\n",
    "        stock_j = stocks[j]\n",
    "        r_i = finalStockData[stock_i]['q']\n",
    "        r_j = finalStockData[stock_j]['q']\n",
    "        r_i_avg = sum(r_i) / len(r_i)\n",
    "        r_j_avg = sum(r_j) / len(r_j)\n",
    "        \n",
    "        r_ij = np.multiply(r_i, r_j)\n",
    "        r_ij_avg = np.mean(r_ij)\n",
    "        \n",
    "        numerator = r_ij_avg - (r_i_avg * r_j_avg)\n",
    "        \n",
    "        denominator = np.sqrt((np.mean(np.square(r_i)) - np.square(r_i_avg)) * (np.mean(np.square(r_j)) - np.square(r_j_avg)))\n",
    "        p_ij = numerator / denominator\n",
    "        w_ij = np.sqrt((2 * (1 - p_ij)))\n",
    "        \n",
    "        weights.append(w_ij)"
   ]
  },
  {
   "cell_type": "code",
   "execution_count": 243,
   "metadata": {},
   "outputs": [
    {
     "data": {
      "text/plain": [
       "121771"
      ]
     },
     "execution_count": 243,
     "metadata": {},
     "output_type": "execute_result"
    }
   ],
   "source": [
    "len(weights)"
   ]
  },
  {
   "cell_type": "code",
   "execution_count": 244,
   "metadata": {},
   "outputs": [
    {
     "data": {
      "text/plain": [
       "[1.1767947154411063,\n",
       " 1.2609242155117169,\n",
       " 1.3127980475638148,\n",
       " 1.1123681377228338,\n",
       " 1.235005063023892]"
      ]
     },
     "execution_count": 244,
     "metadata": {},
     "output_type": "execute_result"
    }
   ],
   "source": [
    "weights[:5]"
   ]
  },
  {
   "cell_type": "code",
   "execution_count": 245,
   "metadata": {},
   "outputs": [
    {
     "data": {
      "text/plain": [
       "[['A', 'AAL', 1.1895541363506683],\n",
       " ['A', 'AAP', 1.2697099690320481],\n",
       " ['A', 'AAPL', 1.3731918616823642],\n",
       " ['A', 'ABBV', 1.129386160335321],\n",
       " ['A', 'ABC', 1.248806557023094]]"
      ]
     },
     "execution_count": 245,
     "metadata": {},
     "output_type": "execute_result"
    }
   ],
   "source": [
    "edgeList[:5]"
   ]
  },
  {
   "cell_type": "code",
   "execution_count": 246,
   "metadata": {},
   "outputs": [
    {
     "data": {
      "image/png": "[encoded data removed]",
      "text/plain": [
       "<matplotlib.figure.Figure at 0x292d041c748>"
      ]
     },
     "metadata": {},
     "output_type": "display_data"
    }
   ],
   "source": [
    "bins = [0.1, 0.2, 0.3, 0.4, 0.5, 0.6, 0.7, 0.8, 0.9, 1.0, 1.1, 1.2, 1.3, 1.4, 1.5, 1.6]\n",
    "x = plt.hist(weights, bins = bins, align=\"mid\", rwidth = 0.9, edgecolor = \"black\", color = \"orange\")"
   ]
  },
  {
   "cell_type": "code",
   "execution_count": 247,
   "metadata": {},
   "outputs": [
    {
     "data": {
      "text/plain": [
       "(array([2.0000e+00, 2.0000e+00, 0.0000e+00, 2.7000e+01, 1.3500e+02,\n",
       "        3.6600e+02, 6.0900e+02, 1.1410e+03, 4.7310e+03, 1.7554e+04,\n",
       "        3.6503e+04, 4.2429e+04, 1.7343e+04, 9.1600e+02, 1.3000e+01]),\n",
       " array([0.1, 0.2, 0.3, 0.4, 0.5, 0.6, 0.7, 0.8, 0.9, 1. , 1.1, 1.2, 1.3,\n",
       "        1.4, 1.5, 1.6]),\n",
       " <a list of 15 Patch objects>)"
      ]
     },
     "execution_count": 247,
     "metadata": {},
     "output_type": "execute_result"
    }
   ],
   "source": [
    "x"
   ]
  },
  {
   "cell_type": "code",
   "execution_count": 155,
   "metadata": {
    "scrolled": true
   },
   "outputs": [
    {
     "data": {
      "text/plain": [
       "121771"
      ]
     },
     "execution_count": 155,
     "metadata": {},
     "output_type": "execute_result"
    }
   ],
   "source": [
    "len(edgeList)"
   ]
  },
  {
   "cell_type": "code",
   "execution_count": 156,
   "metadata": {},
   "outputs": [
    {
     "name": "stdout",
     "output_type": "stream",
     "text": [
      "Counter({765: 494})\n"
     ]
    }
   ],
   "source": [
    "lengths = list()\n",
    "for stock in stocks:\n",
    "    lengths.append(len(finalStockData[stock]['p']))\n",
    "    \n",
    "from collections import Counter\n",
    "lenC = Counter(lengths)\n",
    "print(lenC)"
   ]
  },
  {
   "cell_type": "code",
   "execution_count": 157,
   "metadata": {},
   "outputs": [],
   "source": [
    "fileHandle = open('edgelist_v1.txt', 'w')\n",
    "for edge in edgeList:\n",
    "    line = \"\\t\".join(str(element) for element in edge)\n",
    "    fileHandle.write(\"%s\\n\" % line)"
   ]
  },
  {
   "cell_type": "code",
   "execution_count": 158,
   "metadata": {},
   "outputs": [],
   "source": [
    "fileHandle.close()"
   ]
  },
  {
   "cell_type": "code",
   "execution_count": 159,
   "metadata": {},
   "outputs": [],
   "source": [
    "data = pd.read_csv('edgelist_v1.txt', sep=\"\\t\", header=None)\n",
    "data.columns = [\"V1\", \"V2\", \"weight\"]"
   ]
  },
  {
   "cell_type": "code",
   "execution_count": 160,
   "metadata": {},
   "outputs": [
    {
     "data": {
      "text/html": [
       "<div>\n",
       "<style scoped>\n",
       "    .dataframe tbody tr th:only-of-type {\n",
       "        vertical-align: middle;\n",
       "    }\n",
       "\n",
       "    .dataframe tbody tr th {\n",
       "        vertical-align: top;\n",
       "    }\n",
       "\n",
       "    .dataframe thead th {\n",
       "        text-align: right;\n",
       "    }\n",
       "</style>\n",
       "<table border=\"1\" class=\"dataframe\">\n",
       "  <thead>\n",
       "    <tr style=\"text-align: right;\">\n",
       "      <th></th>\n",
       "      <th>V1</th>\n",
       "      <th>V2</th>\n",
       "      <th>weight</th>\n",
       "    </tr>\n",
       "  </thead>\n",
       "  <tbody>\n",
       "    <tr>\n",
       "      <th>0</th>\n",
       "      <td>A</td>\n",
       "      <td>AAL</td>\n",
       "      <td>1.189554</td>\n",
       "    </tr>\n",
       "    <tr>\n",
       "      <th>1</th>\n",
       "      <td>A</td>\n",
       "      <td>AAP</td>\n",
       "      <td>1.269710</td>\n",
       "    </tr>\n",
       "    <tr>\n",
       "      <th>2</th>\n",
       "      <td>A</td>\n",
       "      <td>AAPL</td>\n",
       "      <td>1.373192</td>\n",
       "    </tr>\n",
       "    <tr>\n",
       "      <th>3</th>\n",
       "      <td>A</td>\n",
       "      <td>ABBV</td>\n",
       "      <td>1.129386</td>\n",
       "    </tr>\n",
       "    <tr>\n",
       "      <th>4</th>\n",
       "      <td>A</td>\n",
       "      <td>ABC</td>\n",
       "      <td>1.248807</td>\n",
       "    </tr>\n",
       "  </tbody>\n",
       "</table>\n",
       "</div>"
      ],
      "text/plain": [
       "  V1    V2    weight\n",
       "0  A   AAL  1.189554\n",
       "1  A   AAP  1.269710\n",
       "2  A  AAPL  1.373192\n",
       "3  A  ABBV  1.129386\n",
       "4  A   ABC  1.248807"
      ]
     },
     "execution_count": 160,
     "metadata": {},
     "output_type": "execute_result"
    }
   ],
   "source": [
    "data.head()"
   ]
  },
  {
   "cell_type": "code",
   "execution_count": 161,
   "metadata": {},
   "outputs": [],
   "source": [
    "data.to_csv('edgelist_v1.csv', index=False)"
   ]
  },
  {
   "cell_type": "code",
   "execution_count": 162,
   "metadata": {},
   "outputs": [],
   "source": [
    "sectorFile =  'finance_data/Name_sector.csv'\n",
    "sectorDF = pd.read_csv(sectorFile)"
   ]
  },
  {
   "cell_type": "code",
   "execution_count": 163,
   "metadata": {},
   "outputs": [
    {
     "data": {
      "text/html": [
       "<div>\n",
       "<style scoped>\n",
       "    .dataframe tbody tr th:only-of-type {\n",
       "        vertical-align: middle;\n",
       "    }\n",
       "\n",
       "    .dataframe tbody tr th {\n",
       "        vertical-align: top;\n",
       "    }\n",
       "\n",
       "    .dataframe thead th {\n",
       "        text-align: right;\n",
       "    }\n",
       "</style>\n",
       "<table border=\"1\" class=\"dataframe\">\n",
       "  <thead>\n",
       "    <tr style=\"text-align: right;\">\n",
       "      <th></th>\n",
       "      <th>Symbol</th>\n",
       "      <th>Sector</th>\n",
       "    </tr>\n",
       "  </thead>\n",
       "  <tbody>\n",
       "    <tr>\n",
       "      <th>0</th>\n",
       "      <td>A</td>\n",
       "      <td>Health Care</td>\n",
       "    </tr>\n",
       "    <tr>\n",
       "      <th>1</th>\n",
       "      <td>AAL</td>\n",
       "      <td>Industrials</td>\n",
       "    </tr>\n",
       "    <tr>\n",
       "      <th>2</th>\n",
       "      <td>AAP</td>\n",
       "      <td>Consumer Discretionary</td>\n",
       "    </tr>\n",
       "    <tr>\n",
       "      <th>3</th>\n",
       "      <td>AAPL</td>\n",
       "      <td>Information Technology</td>\n",
       "    </tr>\n",
       "    <tr>\n",
       "      <th>4</th>\n",
       "      <td>ABBV</td>\n",
       "      <td>Health Care</td>\n",
       "    </tr>\n",
       "  </tbody>\n",
       "</table>\n",
       "</div>"
      ],
      "text/plain": [
       "  Symbol                  Sector\n",
       "0      A             Health Care\n",
       "1    AAL             Industrials\n",
       "2    AAP  Consumer Discretionary\n",
       "3   AAPL  Information Technology\n",
       "4   ABBV             Health Care"
      ]
     },
     "execution_count": 163,
     "metadata": {},
     "output_type": "execute_result"
    }
   ],
   "source": [
    "sectorDF.head()"
   ]
  },
  {
   "cell_type": "code",
   "execution_count": 164,
   "metadata": {},
   "outputs": [],
   "source": [
    "sectorCompanies = dict()\n",
    "for index, row in sectorDF.iterrows():\n",
    "    symbol = row['Symbol']\n",
    "    sector = row['Sector']\n",
    "    \n",
    "    if symbol not in stocks:\n",
    "        continue\n",
    "    if sector not in sectorCompanies:\n",
    "        sectorCompanies[sector] = list()\n",
    "        sectorCompanies[sector].append(symbol)\n",
    "    else:\n",
    "        sectorCompanies[sector].append(symbol)"
   ]
  },
  {
   "cell_type": "code",
   "execution_count": 74,
   "metadata": {},
   "outputs": [
    {
     "data": {
      "text/plain": [
       "dict_keys(['Health Care', 'Industrials', 'Consumer Discretionary', 'Information Technology', 'Consumer Staples', 'Utilities', 'Financials', 'Real Estate', 'Materials', 'Energy', 'Telecommunication Services'])"
      ]
     },
     "execution_count": 74,
     "metadata": {},
     "output_type": "execute_result"
    }
   ],
   "source": [
    "sectorCompanies.keys()"
   ]
  },
  {
   "cell_type": "markdown",
   "metadata": {},
   "source": [
    "## Question4"
   ]
  },
  {
   "cell_type": "markdown",
   "metadata": {},
   "source": [
    "On Entire Network"
   ]
  },
  {
   "cell_type": "code",
   "execution_count": 110,
   "metadata": {},
   "outputs": [],
   "source": [
    "alpha_1 = 0\n",
    "alpha_2 = 0\n",
    "n_i = len(stocks) - 1\n",
    "for stock in stocks:\n",
    "    cond = sectorDF['Symbol'] == stock\n",
    "    row = sectorDF[cond]\n",
    "    q_i = len(sectorCompanies[row['Sector'].iloc[0]]) - 1\n",
    "    p_i_1 = q_i / n_i\n",
    "    p_i_2 = (q_i + 1) / (n_i + 1)\n",
    "    alpha_1 += p_i_1\n",
    "    alpha_2 += p_i_2\n",
    "    \n",
    "alpha_1 = alpha_1 / len(stocks)\n",
    "alpha_2 = alpha_2 / len(stocks)"
   ]
  },
  {
   "cell_type": "code",
   "execution_count": 111,
   "metadata": {},
   "outputs": [
    {
     "name": "stdout",
     "output_type": "stream",
     "text": [
      "0.11239129185109709\n",
      "0.11418807061253222\n"
     ]
    }
   ],
   "source": [
    "print(alpha_1)\n",
    "print(alpha_2)"
   ]
  },
  {
   "cell_type": "markdown",
   "metadata": {},
   "source": [
    "On MST"
   ]
  },
  {
   "cell_type": "code",
   "execution_count": 268,
   "metadata": {},
   "outputs": [],
   "source": [
    "with open('mstAdList_v1.txt', 'r') as mstFile:\n",
    "    mstADList = mstFile.readlines()"
   ]
  },
  {
   "cell_type": "code",
   "execution_count": 269,
   "metadata": {},
   "outputs": [],
   "source": [
    "mstNeighbors = dict()\n",
    "for line in mstADList:\n",
    "    line = line.strip()\n",
    "    splitLine = line.split(', ')\n",
    "    stock = splitLine[0]\n",
    "    neighbors = splitLine[1:]\n",
    "    mstNeighbors[stock] = neighbors"
   ]
  },
  {
   "cell_type": "code",
   "execution_count": null,
   "metadata": {},
   "outputs": [],
   "source": [
    "alpha_1 = 0\n",
    "alpha_2 = 0\n",
    "\n",
    "vcount = len(mstNeighbors)\n",
    "\n",
    "for stock in mstNeighbors:\n",
    "    cond = sectorDF['Symbol'] == stock\n",
    "    row = sectorDF[cond]\n",
    "    print(row.shape)\n",
    "    sectorComp = sectorCompanies[row['Sector'].iloc[0]]\n",
    "    neighbors = mstNeighbors[stock]\n",
    "    \n",
    "    n_i = len(neighbors)\n",
    "    q_i = len(set(sectorComp) & set(neighbors))\n",
    "    p_i_1 = q_i / n_i\n",
    "    p_i_2 = len(sectorComp) / vcount\n",
    "    alpha_1 += p_i_1\n",
    "    alpha_2 += p_i_2\n",
    "    \n",
    "alpha_1 = alpha_1 / vcount\n",
    "alpha_2 = alpha_2 / vcount\n",
    "     "
   ]
  },
  {
   "cell_type": "code",
   "execution_count": 271,
   "metadata": {},
   "outputs": [
    {
     "name": "stdout",
     "output_type": "stream",
     "text": [
      "0.8289300775306759\n",
      "0.11418807061253222\n"
     ]
    }
   ],
   "source": [
    "print(alpha_1)\n",
    "print(alpha_2)"
   ]
  },
  {
   "cell_type": "code",
   "execution_count": 272,
   "metadata": {},
   "outputs": [
    {
     "data": {
      "text/html": [
       "<div>\n",
       "<style scoped>\n",
       "    .dataframe tbody tr th:only-of-type {\n",
       "        vertical-align: middle;\n",
       "    }\n",
       "\n",
       "    .dataframe tbody tr th {\n",
       "        vertical-align: top;\n",
       "    }\n",
       "\n",
       "    .dataframe thead th {\n",
       "        text-align: right;\n",
       "    }\n",
       "</style>\n",
       "<table border=\"1\" class=\"dataframe\">\n",
       "  <thead>\n",
       "    <tr style=\"text-align: right;\">\n",
       "      <th></th>\n",
       "      <th>Symbol</th>\n",
       "      <th>Sector</th>\n",
       "    </tr>\n",
       "  </thead>\n",
       "  <tbody>\n",
       "    <tr>\n",
       "      <th>504</th>\n",
       "      <td>ZTS</td>\n",
       "      <td>Health Care</td>\n",
       "    </tr>\n",
       "  </tbody>\n",
       "</table>\n",
       "</div>"
      ],
      "text/plain": [
       "    Symbol       Sector\n",
       "504    ZTS  Health Care"
      ]
     },
     "execution_count": 272,
     "metadata": {},
     "output_type": "execute_result"
    }
   ],
   "source": [
    "row"
   ]
  },
  {
   "cell_type": "markdown",
   "metadata": {},
   "source": [
    "## Question 5"
   ]
  },
  {
   "cell_type": "code",
   "execution_count": 250,
   "metadata": {},
   "outputs": [],
   "source": [
    "closingWeeklyData = dict()\n",
    "for subdir, dir, files in os.walk(finDataPath):\n",
    "    for file in files:\n",
    "        fileName = finDataPath + file\n",
    "        data = pd.read_csv(fileName)\n",
    "        data['Date'] = pd.to_datetime(data['Date'])\n",
    "        \n",
    "        if data.shape[0] != 765:\n",
    "            continue\n",
    "            \n",
    "        sampledValues = list()\n",
    "        for index, row in data.iterrows():\n",
    "            if row['Date'].weekday() == 0:\n",
    "#                 print(row['Date'])\n",
    "                sampledValues.append(row['Close'])\n",
    "                \n",
    "        key = file[:-4]\n",
    "        closingWeeklyData[key] = sampledValues        "
   ]
  },
  {
   "cell_type": "code",
   "execution_count": 251,
   "metadata": {},
   "outputs": [
    {
     "data": {
      "text/plain": [
       "143"
      ]
     },
     "execution_count": 251,
     "metadata": {},
     "output_type": "execute_result"
    }
   ],
   "source": [
    "len(closingWeeklyData['ZTS'])"
   ]
  },
  {
   "cell_type": "code",
   "execution_count": 252,
   "metadata": {},
   "outputs": [],
   "source": [
    "finalWeeklyStockData = dict()\n",
    "\n",
    "for stock in closingWeeklyData:\n",
    "    finalWeeklyStockData[stock] = dict()\n",
    "    p = closingWeeklyData[stock]\n",
    "    \n",
    "    q = list()\n",
    "    r = list()\n",
    "    for i in range(1, len(p)):\n",
    "        qVal = (p[i] - p[i - 1]) / p[i - 1]\n",
    "            \n",
    "        q.append(qVal)\n",
    "        rVal = np.log(1 + qVal)\n",
    "        r.append(rVal)\n",
    "        \n",
    "    finalWeeklyStockData[stock]['p'] = np.asarray(p)\n",
    "    finalWeeklyStockData[stock]['q'] = np.asarray(q)\n",
    "    finalWeeklyStockData[stock]['r'] = np.asarray(r)\n",
    "    finalWeeklyStockData[stock]['r_avg'] = sum(r) / len(r)"
   ]
  },
  {
   "cell_type": "code",
   "execution_count": 253,
   "metadata": {},
   "outputs": [],
   "source": [
    "edgeListWeekly = list()\n",
    "\n",
    "stocks = list(finalWeeklyStockData.keys())\n",
    "\n",
    "for i in range(len(stocks)):\n",
    "    for j in range(i + 1, len(stocks)):\n",
    "        stock_i = stocks[i]\n",
    "        stock_j = stocks[j]\n",
    "        r_i = finalWeeklyStockData[stock_i]['r']\n",
    "        r_j = finalWeeklyStockData[stock_j]['r']\n",
    "        r_i_avg = finalWeeklyStockData[stock_i]['r_avg']\n",
    "        r_j_avg = finalWeeklyStockData[stock_j]['r_avg']\n",
    "        \n",
    "        r_ij = np.multiply(r_i, r_j)\n",
    "        r_ij_avg = np.mean(r_ij)\n",
    "        \n",
    "        numerator = r_ij_avg - (r_i_avg * r_j_avg)\n",
    "        \n",
    "        denominator = np.sqrt((np.mean(np.square(r_i)) - np.square(r_i_avg)) * (np.mean(np.square(r_j)) - np.square(r_j_avg)))\n",
    "        p_ij = numerator / denominator\n",
    "        w_ij = np.sqrt((2 * (1 - p_ij)))\n",
    "        \n",
    "        edgeListWeekly.append([stock_i, stock_j, w_ij])"
   ]
  },
  {
   "cell_type": "code",
   "execution_count": 254,
   "metadata": {},
   "outputs": [],
   "source": [
    "#unnormalized weights\n",
    "weights = list()\n",
    "\n",
    "stocks = list(finalWeeklyStockData.keys())\n",
    "\n",
    "for i in range(len(stocks)):\n",
    "    for j in range(i + 1, len(stocks)):\n",
    "        stock_i = stocks[i]\n",
    "        stock_j = stocks[j]\n",
    "        r_i = finalWeeklyStockData[stock_i]['q']\n",
    "        r_j = finalWeeklyStockData[stock_j]['q']\n",
    "        r_i_avg = sum(r_i) / len(r_i)\n",
    "        r_j_avg = sum(r_j) / len(r_j)\n",
    "        \n",
    "        r_ij = np.multiply(r_i, r_j)\n",
    "        r_ij_avg = np.mean(r_ij)\n",
    "        \n",
    "        numerator = r_ij_avg - (r_i_avg * r_j_avg)\n",
    "        \n",
    "        denominator = np.sqrt((np.mean(np.square(r_i)) - np.square(r_i_avg)) * (np.mean(np.square(r_j)) - np.square(r_j_avg)))\n",
    "        p_ij = numerator / denominator\n",
    "        w_ij = np.sqrt((2 * (1 - p_ij)))\n",
    "        \n",
    "        weights.append(w_ij)"
   ]
  },
  {
   "cell_type": "code",
   "execution_count": 255,
   "metadata": {},
   "outputs": [
    {
     "data": {
      "text/plain": [
       "121771"
      ]
     },
     "execution_count": 255,
     "metadata": {},
     "output_type": "execute_result"
    }
   ],
   "source": [
    "len(weights)"
   ]
  },
  {
   "cell_type": "code",
   "execution_count": 256,
   "metadata": {},
   "outputs": [
    {
     "data": {
      "image/png": "[encoded data removed]",
      "text/plain": [
       "<matplotlib.figure.Figure at 0x292d0475e48>"
      ]
     },
     "metadata": {},
     "output_type": "display_data"
    }
   ],
   "source": [
    "bins = [0.1, 0.2, 0.3, 0.4, 0.5, 0.6, 0.7, 0.8, 0.9, 1.0, 1.1, 1.2, 1.3, 1.4, 1.5, 1.6]\n",
    "x = plt.hist(weights, bins = bins, align=\"mid\", rwidth = 0.9, edgecolor = \"black\", color = \"orange\")"
   ]
  },
  {
   "cell_type": "code",
   "execution_count": 257,
   "metadata": {},
   "outputs": [
    {
     "data": {
      "text/plain": [
       "(array([4.0000e+00, 0.0000e+00, 1.0000e+00, 6.7000e+01, 2.4500e+02,\n",
       "        4.2800e+02, 8.4600e+02, 3.2930e+03, 1.0988e+04, 2.3889e+04,\n",
       "        3.2974e+04, 3.0696e+04, 1.5256e+04, 2.8370e+03, 2.4000e+02]),\n",
       " array([0.1, 0.2, 0.3, 0.4, 0.5, 0.6, 0.7, 0.8, 0.9, 1. , 1.1, 1.2, 1.3,\n",
       "        1.4, 1.5, 1.6]),\n",
       " <a list of 15 Patch objects>)"
      ]
     },
     "execution_count": 257,
     "metadata": {},
     "output_type": "execute_result"
    }
   ],
   "source": [
    "x"
   ]
  },
  {
   "cell_type": "code",
   "execution_count": 258,
   "metadata": {
    "scrolled": true
   },
   "outputs": [
    {
     "data": {
      "text/plain": [
       "121771"
      ]
     },
     "execution_count": 258,
     "metadata": {},
     "output_type": "execute_result"
    }
   ],
   "source": [
    "len(edgeListWeekly)"
   ]
  },
  {
   "cell_type": "code",
   "execution_count": 259,
   "metadata": {},
   "outputs": [],
   "source": [
    "fileHandle = open('edgelistweekly_v1.txt', 'w')\n",
    "for edge in edgeListWeekly:\n",
    "    line = \"\\t\".join(str(element) for element in edge)\n",
    "    fileHandle.write(\"%s\\n\" % line)"
   ]
  },
  {
   "cell_type": "code",
   "execution_count": 260,
   "metadata": {},
   "outputs": [],
   "source": [
    "fileHandle.close()"
   ]
  },
  {
   "cell_type": "code",
   "execution_count": 261,
   "metadata": {},
   "outputs": [],
   "source": [
    "data = pd.read_csv('edgelistweekly_v1.txt', sep=\"\\t\", header=None)\n",
    "data.columns = [\"V1\", \"V2\", \"weight\"]"
   ]
  },
  {
   "cell_type": "code",
   "execution_count": 262,
   "metadata": {},
   "outputs": [
    {
     "data": {
      "text/html": [
       "<div>\n",
       "<style scoped>\n",
       "    .dataframe tbody tr th:only-of-type {\n",
       "        vertical-align: middle;\n",
       "    }\n",
       "\n",
       "    .dataframe tbody tr th {\n",
       "        vertical-align: top;\n",
       "    }\n",
       "\n",
       "    .dataframe thead th {\n",
       "        text-align: right;\n",
       "    }\n",
       "</style>\n",
       "<table border=\"1\" class=\"dataframe\">\n",
       "  <thead>\n",
       "    <tr style=\"text-align: right;\">\n",
       "      <th></th>\n",
       "      <th>V1</th>\n",
       "      <th>V2</th>\n",
       "      <th>weight</th>\n",
       "    </tr>\n",
       "  </thead>\n",
       "  <tbody>\n",
       "    <tr>\n",
       "      <th>0</th>\n",
       "      <td>A</td>\n",
       "      <td>AAL</td>\n",
       "      <td>1.199583</td>\n",
       "    </tr>\n",
       "    <tr>\n",
       "      <th>1</th>\n",
       "      <td>A</td>\n",
       "      <td>AAP</td>\n",
       "      <td>1.260472</td>\n",
       "    </tr>\n",
       "    <tr>\n",
       "      <th>2</th>\n",
       "      <td>A</td>\n",
       "      <td>AAPL</td>\n",
       "      <td>1.426122</td>\n",
       "    </tr>\n",
       "    <tr>\n",
       "      <th>3</th>\n",
       "      <td>A</td>\n",
       "      <td>ABBV</td>\n",
       "      <td>1.110045</td>\n",
       "    </tr>\n",
       "    <tr>\n",
       "      <th>4</th>\n",
       "      <td>A</td>\n",
       "      <td>ABC</td>\n",
       "      <td>1.230741</td>\n",
       "    </tr>\n",
       "  </tbody>\n",
       "</table>\n",
       "</div>"
      ],
      "text/plain": [
       "  V1    V2    weight\n",
       "0  A   AAL  1.199583\n",
       "1  A   AAP  1.260472\n",
       "2  A  AAPL  1.426122\n",
       "3  A  ABBV  1.110045\n",
       "4  A   ABC  1.230741"
      ]
     },
     "execution_count": 262,
     "metadata": {},
     "output_type": "execute_result"
    }
   ],
   "source": [
    "data.head()"
   ]
  },
  {
   "cell_type": "code",
   "execution_count": 263,
   "metadata": {},
   "outputs": [],
   "source": [
    "data.to_csv('edgelistweekly_v1.csv', index=False)"
   ]
  },
  {
   "cell_type": "markdown",
   "metadata": {},
   "source": [
    "On Entire Network"
   ]
  },
  {
   "cell_type": "code",
   "execution_count": 110,
   "metadata": {},
   "outputs": [],
   "source": [
    "alpha_1 = 0\n",
    "alpha_2 = 0\n",
    "n_i = len(stocks) - 1\n",
    "for stock in stocks:\n",
    "    cond = sectorDF['Symbol'] == stock\n",
    "    row = sectorDF[cond]\n",
    "    q_i = len(sectorCompanies[row['Sector'].iloc[0]]) - 1\n",
    "    p_i_1 = q_i / n_i\n",
    "    p_i_2 = (q_i + 1) / (n_i + 1)\n",
    "    alpha_1 += p_i_1\n",
    "    alpha_2 += p_i_2\n",
    "    \n",
    "alpha_1 = alpha_1 / len(stocks)\n",
    "alpha_2 = alpha_2 / len(stocks)"
   ]
  },
  {
   "cell_type": "code",
   "execution_count": 111,
   "metadata": {},
   "outputs": [
    {
     "name": "stdout",
     "output_type": "stream",
     "text": [
      "0.11239129185109709\n",
      "0.11418807061253222\n"
     ]
    }
   ],
   "source": [
    "print(alpha_1)\n",
    "print(alpha_2)"
   ]
  },
  {
   "cell_type": "markdown",
   "metadata": {},
   "source": [
    "On MST"
   ]
  },
  {
   "cell_type": "code",
   "execution_count": 274,
   "metadata": {},
   "outputs": [],
   "source": [
    "with open('mstAdListW_v1.txt', 'r') as mstFile:\n",
    "    mstADList = mstFile.readlines()"
   ]
  },
  {
   "cell_type": "code",
   "execution_count": 275,
   "metadata": {},
   "outputs": [],
   "source": [
    "mstNeighbors = dict()\n",
    "for line in mstADList:\n",
    "    line = line.strip()\n",
    "    splitLine = line.split(', ')\n",
    "    stock = splitLine[0]\n",
    "    neighbors = splitLine[1:]\n",
    "    mstNeighbors[stock] = neighbors"
   ]
  },
  {
   "cell_type": "code",
   "execution_count": 276,
   "metadata": {},
   "outputs": [],
   "source": [
    "alpha_1 = 0\n",
    "alpha_2 = 0\n",
    "\n",
    "vcount = len(mstNeighbors)\n",
    "\n",
    "for stock in mstNeighbors:\n",
    "    cond = sectorDF['Symbol'] == stock\n",
    "    row = sectorDF[cond]\n",
    "    \n",
    "    sectorComp = sectorCompanies[row['Sector'].iloc[0]]\n",
    "    neighbors = mstNeighbors[stock]\n",
    "    \n",
    "    n_i = len(neighbors)\n",
    "    q_i = len(set(sectorComp) & set(neighbors))\n",
    "    p_i_1 = q_i / n_i\n",
    "    p_i_2 = len(sectorComp) / vcount\n",
    "    alpha_1 += p_i_1\n",
    "    alpha_2 += p_i_2\n",
    "    \n",
    "alpha_1 = alpha_1 / vcount\n",
    "alpha_2 = alpha_2 / vcount\n",
    "     "
   ]
  },
  {
   "cell_type": "code",
   "execution_count": 277,
   "metadata": {},
   "outputs": [
    {
     "name": "stdout",
     "output_type": "stream",
     "text": [
      "0.7429696034959192\n",
      "0.11418807061253222\n"
     ]
    }
   ],
   "source": [
    "print(alpha_1)\n",
    "print(alpha_2)"
   ]
  },
  {
   "cell_type": "code",
   "execution_count": 201,
   "metadata": {},
   "outputs": [
    {
     "data": {
      "text/plain": [
       "{'p': array([30.309999, 30.639999, 30.530001, 30.889999, 30.65    , 30.48    ,\n",
       "        30.540001, 30.809999, 30.73    , 30.639999, 30.459999, 30.6     ,\n",
       "        30.459999, 30.280001, 30.42    , 30.33    , 30.530001, 30.700001,\n",
       "        30.48    , 30.719999, 30.700001, 30.92    , 31.25    , 31.370001,\n",
       "        31.610001, 31.74    , 32.009998, 32.5     , 32.130001, 31.99    ,\n",
       "        32.119999, 32.130001, 32.810001, 32.889999, 32.549999, 32.459999,\n",
       "        32.639999, 32.369999, 32.369999, 32.240002, 32.380001, 32.27    ,\n",
       "        32.509998, 32.740002, 32.91    , 32.560001, 32.48    , 32.459999,\n",
       "        32.52    , 32.369999, 32.73    , 32.389999, 32.630001, 32.209999,\n",
       "        32.689999, 32.849998, 32.869999, 32.84    , 32.889999, 32.82    ,\n",
       "        32.860001, 33.029999, 33.139999, 32.91    , 32.740002, 33.240002,\n",
       "        32.209999, 32.299999, 31.790001, 32.32    , 32.599998, 32.450001,\n",
       "        32.869999, 33.07    , 33.689999, 33.93    , 34.52    , 34.790001,\n",
       "        34.889999, 34.889999, 34.900002, 35.130001, 35.34    , 35.330002,\n",
       "        35.439999, 35.48    , 35.759998, 35.509998, 36.040001, 36.279999,\n",
       "        36.18    , 36.240002, 36.27    , 36.18    , 36.27    , 36.490002,\n",
       "        36.650002, 36.700001, 37.200001, 36.619999, 35.880001, 36.580002,\n",
       "        36.299999, 36.630001, 36.790001, 36.950001, 36.450001, 36.91    ,\n",
       "        37.669998, 37.66    , 36.709999, 37.549999, 37.02    , 36.68    ,\n",
       "        35.57    , 35.869999, 35.259998, 35.07    , 35.369999, 35.41    ,\n",
       "        36.09    , 35.889999, 36.110001, 36.580002, 36.57    , 37.009998,\n",
       "        36.619999, 37.32    , 37.16    , 37.720001, 39.119999, 39.27    ,\n",
       "        39.709999, 40.23    , 40.16    , 43.720001, 42.639999, 43.240002,\n",
       "        43.139999, 44.23    , 44.189999, 43.400002, 43.150002, 43.869999,\n",
       "        44.580002, 43.91    , 44.669998, 44.93    , 44.369999, 44.740002,\n",
       "        44.880001, 44.      , 43.98    , 44.099998, 43.82    , 42.77    ,\n",
       "        42.880001, 41.77    , 41.740002, 40.849998, 41.130001, 43.150002,\n",
       "        43.509998, 43.41    , 42.970001, 43.84    , 44.200001, 44.009998,\n",
       "        43.349998, 43.029999, 43.310001, 43.049999, 42.630001, 43.509998,\n",
       "        44.18    , 44.25    , 43.419998, 42.810001, 43.029999, 42.939999,\n",
       "        44.220001, 43.560001, 44.25    , 44.509998, 44.119999, 44.09    ,\n",
       "        43.299999, 43.110001, 43.32    , 42.73    , 43.380001, 43.5     ,\n",
       "        43.459999, 43.400002, 43.66    , 42.869999, 43.91    , 45.77    ,\n",
       "        45.790001, 45.459999, 46.200001, 45.849998, 45.650002, 45.599998,\n",
       "        45.580002, 45.400002, 45.720001, 46.619999, 46.09    , 47.310001,\n",
       "        46.540001, 46.23    , 46.459999, 45.779999, 46.290001, 45.700001,\n",
       "        46.009998, 46.84    , 46.450001, 46.98    , 47.150002, 47.509998,\n",
       "        47.41    , 47.34    , 47.150002, 47.02    , 46.27    , 46.110001,\n",
       "        46.220001, 46.919998, 46.290001, 46.27    , 46.5     , 46.330002,\n",
       "        46.360001, 46.209999, 46.549999, 47.169998, 46.66    , 46.900002,\n",
       "        47.      , 47.139999, 46.77    , 47.040001, 47.540001, 47.029999,\n",
       "        47.049999, 47.91    , 46.830002, 45.73    , 45.220001, 44.419998,\n",
       "        44.610001, 45.400002, 45.68    , 45.290001, 45.560001, 45.900002,\n",
       "        46.09    , 45.580002, 45.619999, 46.279999, 46.490002, 46.73    ,\n",
       "        47.450001, 47.279999, 47.799999, 47.630001, 47.950001, 49.450001,\n",
       "        49.110001, 49.77    , 49.779999, 49.580002, 49.549999, 48.900002,\n",
       "        49.009998, 48.799999, 49.240002, 49.689999, 49.869999, 49.080002,\n",
       "        49.27    , 49.709999, 50.169998, 50.5     , 50.240002, 50.220001,\n",
       "        50.470001, 49.709999, 55.380001, 48.619999, 47.07    , 48.220001,\n",
       "        48.43    , 48.310001, 48.400002, 47.880001, 46.48    , 46.57    ,\n",
       "        46.959999, 47.040001, 47.459999, 47.110001, 48.      , 47.799999,\n",
       "        48.98    , 49.119999, 50.02    , 49.849998, 49.490002, 49.48    ,\n",
       "        48.849998, 48.400002, 48.549999, 48.98    , 48.48    , 48.849998,\n",
       "        48.610001, 48.279999, 48.310001, 48.389999, 48.209999, 47.860001,\n",
       "        47.66    , 47.470001, 48.689999, 47.73    , 47.91    , 46.380001,\n",
       "        45.02    , 43.529999, 42.560001, 44.25    , 45.860001, 45.779999,\n",
       "        44.869999, 43.98    , 45.119999, 44.529999, 44.009998, 44.889999,\n",
       "        43.950001, 44.34    , 45.      , 44.470001, 45.060001, 44.509998,\n",
       "        46.009998, 45.119999, 44.5     , 44.23    , 44.32    , 43.59    ,\n",
       "        42.509998, 39.959999, 39.650002, 41.18    , 41.290001, 43.02    ,\n",
       "        42.849998, 41.389999, 42.669998, 43.220001, 42.799999, 42.709999,\n",
       "        42.32    , 42.380001, 43.      , 43.93    , 43.779999, 43.09    ,\n",
       "        41.66    , 40.799999, 42.540001, 42.349998, 42.740002, 43.34    ,\n",
       "        43.549999, 43.009998, 44.240002, 46.630001, 46.549999, 45.459999,\n",
       "        45.970001, 45.799999, 45.880001, 45.080002, 44.529999, 44.849998,\n",
       "        45.299999, 45.77    , 47.18    , 46.900002, 47.32    , 46.959999,\n",
       "        46.93    , 46.970001, 47.080002, 46.700001, 47.009998, 46.369999,\n",
       "        45.200001, 46.459999, 45.91    , 45.939999, 45.209999, 46.099998,\n",
       "        45.830002, 46.59    , 46.970001, 47.09    , 46.73    , 46.599998,\n",
       "        47.34    , 47.720001, 47.98    , 48.130001, 47.900002, 48.330002,\n",
       "        48.259998, 47.919998, 47.27    , 48.009998, 48.02    , 46.560001,\n",
       "        45.880001, 44.580002, 44.970001, 43.25    , 44.130001, 43.380001,\n",
       "        43.189999, 43.790001, 43.080002, 43.400002, 43.200001, 43.869999,\n",
       "        43.150002, 42.84    , 43.049999, 42.959999, 41.720001, 41.310001,\n",
       "        41.540001, 40.91    , 40.189999, 39.860001, 39.330002, 39.360001,\n",
       "        40.43    , 40.43    , 41.799999, 42.02    , 41.830002, 42.77    ,\n",
       "        42.369999, 42.369999, 42.900002, 42.360001, 41.060001, 42.099998,\n",
       "        41.720001, 41.080002, 40.799999, 41.200001, 40.23    , 40.459999,\n",
       "        39.91    , 41.869999, 41.310001, 40.720001, 40.459999, 39.720001,\n",
       "        40.860001, 41.619999, 42.75    , 42.639999, 42.48    , 42.18    ,\n",
       "        43.119999, 44.02    , 44.330002, 44.990002, 45.759998, 45.849998,\n",
       "        47.27    , 47.189999, 46.939999, 46.669998, 47.009998, 47.5     ,\n",
       "        47.669998, 48.110001, 48.57    , 48.560001, 48.470001, 48.439999,\n",
       "        48.639999, 47.32    , 47.610001, 47.459999, 47.189999, 47.029999,\n",
       "        48.029999, 48.150002, 47.049999, 48.240002, 47.34    , 47.5     ,\n",
       "        46.560001, 46.      , 46.25    , 46.389999, 46.77    , 46.5     ,\n",
       "        46.959999, 46.43    , 47.060001, 46.400002, 47.290001, 47.      ,\n",
       "        47.330002, 47.18    , 47.419998, 47.849998, 48.130001, 47.93    ,\n",
       "        48.41    , 48.349998, 48.450001, 48.139999, 47.389999, 46.189999,\n",
       "        47.189999, 47.220001, 47.259998, 46.439999, 46.91    , 47.290001,\n",
       "        47.330002, 47.900002, 46.509998, 45.419998, 46.419998, 47.240002,\n",
       "        47.459999, 47.450001, 47.5     , 48.09    , 47.689999, 48.5     ,\n",
       "        48.290001, 48.869999, 49.189999, 49.98    , 49.68    , 49.720001,\n",
       "        49.369999, 50.25    , 50.139999, 50.259998, 49.990002, 49.919998,\n",
       "        49.849998, 50.060001, 50.470001, 50.400002, 49.720001, 51.209999,\n",
       "        51.41    , 51.09    , 50.799999, 50.93    , 51.810001, 52.07    ,\n",
       "        51.98    , 52.380001, 52.09    , 52.299999, 52.290001, 52.540001,\n",
       "        51.23    , 51.25    , 50.630001, 50.470001, 50.759998, 50.759998,\n",
       "        50.75    , 51.099998, 51.110001, 51.259998, 51.290001, 52.040001,\n",
       "        51.41    , 50.389999, 51.150002, 50.32    , 50.549999, 50.720001,\n",
       "        50.509998, 50.32    , 50.599998, 51.060001, 51.630001, 51.509998,\n",
       "        51.209999, 51.869999, 51.75    , 51.02    , 52.009998, 52.360001,\n",
       "        52.310001, 52.18    , 51.650002, 51.849998, 52.689999, 50.959999,\n",
       "        51.419998, 51.02    , 50.18    , 50.029999, 51.060001, 51.110001,\n",
       "        51.299999, 50.939999, 51.029999, 49.990002, 48.77    , 48.77    ,\n",
       "        48.560001, 47.799999, 47.25    , 50.110001, 48.950001, 49.939999,\n",
       "        49.98    , 50.330002, 51.      , 51.09    , 50.610001, 48.959999,\n",
       "        49.150002, 48.84    , 49.209999, 49.889999, 50.      , 49.630001,\n",
       "        50.18    , 50.18    , 50.150002, 50.450001, 50.380001, 49.16    ,\n",
       "        49.099998, 49.82    , 50.220001, 51.259998, 51.68    , 51.889999,\n",
       "        50.919998, 51.049999, 50.84    , 52.32    , 52.459999, 52.389999,\n",
       "        53.099998, 53.119999, 53.259998, 53.779999, 53.720001, 53.439999,\n",
       "        53.619999, 53.529999, 53.59    , 54.110001, 53.93    , 54.099998,\n",
       "        53.950001, 53.93    , 53.310001, 53.389999, 53.740002, 53.220001,\n",
       "        53.299999, 53.5     , 53.970001, 53.75    , 53.779999, 54.      ,\n",
       "        53.84    , 54.650002, 54.27    , 54.939999, 55.32    , 55.700001,\n",
       "        55.919998, 55.77    , 55.98    , 55.959999, 55.959999, 55.73    ,\n",
       "        55.139999, 55.02    , 55.150002, 52.779999, 52.509998, 53.470001,\n",
       "        53.380001, 53.580002, 53.880001, 53.830002, 53.310001, 53.889999,\n",
       "        53.369999, 53.419998, 53.080002, 53.07    , 53.      , 53.689999,\n",
       "        53.34    , 53.560001, 53.419998, 54.279999, 54.43    , 54.      ,\n",
       "        54.279999, 53.389999, 53.869999, 53.799999, 53.849998, 53.970001,\n",
       "        54.16    , 53.82    , 53.470001, 53.369999, 53.169998, 52.650002,\n",
       "        52.669998, 52.669998, 52.540001, 52.740002, 52.849998, 53.220001,\n",
       "        53.099998, 53.5     , 53.549999, 53.849998, 54.290001, 54.189999,\n",
       "        54.990002, 55.119999, 55.57    , 56.459999, 56.110001, 56.279999,\n",
       "        56.470001, 55.59    , 58.869999, 59.470001, 58.810001, 59.43    ,\n",
       "        59.900002, 59.720001, 59.880001]),\n",
       " 'q': array([ 0.0108875 , -0.00359001,  0.01179161, -0.00776947, -0.00554649,\n",
       "         0.00196854,  0.0088408 , -0.00259653, -0.00292877, -0.00587467,\n",
       "         0.00459622, -0.0045752 , -0.00590932,  0.00462348, -0.00295858,\n",
       "         0.00659416,  0.00556829, -0.00716616,  0.00787398, -0.00065098,\n",
       "         0.00716609,  0.0106727 ,  0.00384003,  0.00765062,  0.00411259,\n",
       "         0.00850655,  0.01530778, -0.01138458, -0.00435733,  0.00406374,\n",
       "         0.00031139,  0.02116402,  0.00243822, -0.01033749, -0.00276498,\n",
       "         0.00554529, -0.00827206,  0.        , -0.00401597,  0.0043424 ,\n",
       "        -0.00339719,  0.00743719,  0.00707487,  0.00519236, -0.01063503,\n",
       "        -0.00245703, -0.00061579,  0.00184846, -0.00461258,  0.01112144,\n",
       "        -0.01038805,  0.00740976, -0.01287165,  0.0149022 ,  0.00489443,\n",
       "         0.00060886, -0.00091266,  0.0015225 , -0.00212828,  0.0012188 ,\n",
       "         0.0051734 ,  0.00333031, -0.00694022, -0.00516554,  0.01527184,\n",
       "        -0.03098685,  0.00279416, -0.01578941,  0.01667188,  0.0086633 ,\n",
       "        -0.00460114,  0.01294293,  0.00608461,  0.01874808,  0.00712381,\n",
       "         0.01738874,  0.00782158,  0.00287433,  0.        ,  0.0002867 ,\n",
       "         0.00659023,  0.00597777, -0.00028291,  0.00311342,  0.0011287 ,\n",
       "         0.00789171, -0.00699105,  0.01492546,  0.00665921, -0.00275631,\n",
       "         0.00165843,  0.00082776, -0.00248139,  0.00248756,  0.00606567,\n",
       "         0.00438476,  0.00136423,  0.01362398, -0.01559145, -0.02020748,\n",
       "         0.0195095 , -0.00765454,  0.00909096,  0.004368  ,  0.00434901,\n",
       "        -0.0135318 ,  0.01262   ,  0.02059057, -0.00026541, -0.02522573,\n",
       "         0.02288205, -0.01411449, -0.00918422, -0.03026172,  0.00843405,\n",
       "        -0.01700588, -0.00538849,  0.00855429,  0.00113093,  0.01920361,\n",
       "        -0.00554173,  0.0061299 ,  0.01301581, -0.00027343,  0.01203167,\n",
       "        -0.01053767,  0.01911527, -0.00428725,  0.01506999,  0.03711553,\n",
       "         0.00383438,  0.01120446,  0.01309496, -0.00174   ,  0.08864544,\n",
       "        -0.0247027 ,  0.01407137, -0.00231274,  0.0252666 , -0.00090439,\n",
       "        -0.01787728, -0.00576037,  0.01668591,  0.01618425, -0.01502921,\n",
       "         0.01730808,  0.00582051, -0.01246385,  0.00833904,  0.00312917,\n",
       "        -0.01960786, -0.00045455,  0.00272847, -0.00634916, -0.02396166,\n",
       "         0.00257192, -0.02588622, -0.00071817, -0.02132257,  0.00685442,\n",
       "         0.04911259,  0.0083429 , -0.00229828, -0.01013589,  0.02024666,\n",
       "         0.0082117 , -0.00429871, -0.01499659, -0.00738175,  0.00650713,\n",
       "        -0.00600328, -0.00975605,  0.02064267,  0.01539881,  0.00158443,\n",
       "        -0.01875711, -0.01404876,  0.00513894, -0.00209156,  0.02980908,\n",
       "        -0.01492537,  0.0158402 ,  0.00587566, -0.00876205, -0.00067994,\n",
       "        -0.01791792, -0.00438794,  0.00487124, -0.01361958,  0.01521182,\n",
       "         0.00276623, -0.00091956, -0.00138051,  0.00599074, -0.01809439,\n",
       "         0.02425941,  0.04235937,  0.00043699, -0.00720686,  0.01627809,\n",
       "        -0.00757582, -0.00436196, -0.00109538, -0.00043851, -0.0039491 ,\n",
       "         0.00704844,  0.019685  , -0.01136849,  0.02646997, -0.01627563,\n",
       "        -0.00666096,  0.0049751 , -0.01463625,  0.01114028, -0.01274573,\n",
       "         0.0067833 ,  0.0180396 , -0.0083262 ,  0.0114101 ,  0.0036186 ,\n",
       "         0.00763512, -0.00210478, -0.00147648, -0.00401348, -0.0027572 ,\n",
       "        -0.01595066, -0.00345794,  0.0023856 ,  0.01514489, -0.01342705,\n",
       "        -0.00043208,  0.00497082, -0.00365587,  0.00064751, -0.00323559,\n",
       "         0.00735771,  0.01331899, -0.01081191,  0.00514363,  0.00213215,\n",
       "         0.0029787 , -0.00784894,  0.00577295,  0.01062925, -0.01072785,\n",
       "         0.00042526,  0.01827845, -0.02254223, -0.02348926, -0.01115239,\n",
       "        -0.01769135,  0.00427742,  0.01770906,  0.00616736, -0.00853763,\n",
       "         0.00596158,  0.00746271,  0.00413939, -0.01106526,  0.00087751,\n",
       "         0.01446734,  0.00453766,  0.00516236,  0.01540768, -0.00358276,\n",
       "         0.01099831, -0.00355644,  0.00671845,  0.03128259, -0.00687563,\n",
       "         0.0134392 ,  0.0002009 , -0.00401762, -0.00060514, -0.013118  ,\n",
       "         0.00224941, -0.00428482,  0.00901646,  0.00913885,  0.00362246,\n",
       "        -0.01584113,  0.00387119,  0.00893036,  0.00925365,  0.00657768,\n",
       "        -0.00514848, -0.00039811,  0.0049781 , -0.01505849,  0.1140616 ,\n",
       "        -0.12206576, -0.03187986,  0.02443172,  0.00435502, -0.00247778,\n",
       "         0.00186299, -0.01074382, -0.02923979,  0.00193632,  0.00837447,\n",
       "         0.00170362,  0.00892853, -0.00737459,  0.01889193, -0.00416669,\n",
       "         0.02468621,  0.00285829,  0.0183225 , -0.00339868, -0.00722159,\n",
       "        -0.0002021 , -0.01273246, -0.00921179,  0.00309911,  0.00885687,\n",
       "        -0.01020825,  0.00763197, -0.00491294, -0.00678877,  0.00062142,\n",
       "         0.00165593, -0.00371978, -0.00725986, -0.00417888, -0.00398655,\n",
       "         0.0257004 , -0.01971655,  0.00377121, -0.03193486, -0.029323  ,\n",
       "        -0.03309642, -0.02228344,  0.03970862,  0.0363842 , -0.00174448,\n",
       "        -0.01987768, -0.01983506,  0.02592085, -0.01307624, -0.01167754,\n",
       "         0.01999548, -0.02094003,  0.0088737 ,  0.01488498, -0.01177776,\n",
       "         0.01326737, -0.01220601,  0.03370029, -0.0193436 , -0.01374111,\n",
       "        -0.00606742,  0.00203482, -0.01647112, -0.02477637, -0.05998586,\n",
       "        -0.00775768,  0.03858759,  0.00267122,  0.04189874, -0.0039517 ,\n",
       "        -0.03407232,  0.03092532,  0.01288969, -0.00971777, -0.0021028 ,\n",
       "        -0.00913133,  0.00141779,  0.01462952,  0.02162791, -0.00341455,\n",
       "        -0.0157606 , -0.03318635, -0.02064333,  0.04264711, -0.00446645,\n",
       "         0.00920907,  0.01403832,  0.00484539, -0.01239956,  0.02859809,\n",
       "         0.05402348, -0.00171568, -0.02341568,  0.0112187 , -0.00369811,\n",
       "         0.00174677, -0.01743677, -0.0122006 ,  0.00718614,  0.01003347,\n",
       "         0.0103753 ,  0.0308062 , -0.00593468,  0.00895518, -0.0076078 ,\n",
       "        -0.00063882,  0.00085235,  0.00234194, -0.00807139,  0.00663805,\n",
       "        -0.0136141 , -0.02523179,  0.02787606, -0.01183812,  0.00065343,\n",
       "        -0.01589029,  0.01968589, -0.00585675,  0.01658298,  0.00815628,\n",
       "         0.0025548 , -0.00764494, -0.00278198,  0.01587987,  0.00802706,\n",
       "         0.00544843,  0.00312632, -0.0047787 ,  0.00897704, -0.00144846,\n",
       "        -0.00704517, -0.01356423,  0.01565471,  0.00020833, -0.03040398,\n",
       "        -0.01460481, -0.02833476,  0.00874829, -0.03824774,  0.02034684,\n",
       "        -0.01699524, -0.00437994,  0.01389215, -0.01621372,  0.00742804,\n",
       "        -0.00460832,  0.01550921, -0.01641206, -0.00718429,  0.00490194,\n",
       "        -0.00209059, -0.02886401, -0.00982742,  0.00556766, -0.01516613,\n",
       "        -0.01759963, -0.00821095, -0.01329651,  0.00076275,  0.02718493,\n",
       "         0.        ,  0.0338857 ,  0.00526318, -0.00452161,  0.02247186,\n",
       "        -0.00935237,  0.        ,  0.01250892, -0.01258744, -0.03068933,\n",
       "         0.02532871, -0.00902606, -0.01534034, -0.00681604,  0.00980397,\n",
       "        -0.02354371,  0.0057171 , -0.01359365,  0.04911047, -0.01337468,\n",
       "        -0.01428226, -0.00638512, -0.01828962,  0.02870091,  0.01860005,\n",
       "         0.02715043, -0.00257312, -0.00375232, -0.00706215,  0.02228542,\n",
       "         0.02087201,  0.0070423 ,  0.01488834,  0.01711482,  0.00196678,\n",
       "         0.0309706 , -0.00169243, -0.00529773, -0.00575205,  0.00728519,\n",
       "         0.01042336,  0.00357891,  0.00923019,  0.0095614 , -0.00020587,\n",
       "        -0.00185338, -0.00061898,  0.00412882, -0.02713814,  0.00612851,\n",
       "        -0.00315064, -0.005689  , -0.00339055,  0.02126302,  0.0024985 ,\n",
       "        -0.02284534,  0.02529231, -0.01865676,  0.00337981, -0.01978945,\n",
       "        -0.01202751,  0.00543478,  0.00302701,  0.00819144, -0.00577293,\n",
       "         0.00989245, -0.01128618,  0.01356883, -0.01402463,  0.01918101,\n",
       "        -0.0061324 ,  0.00702132, -0.00316928,  0.00508686,  0.0090679 ,\n",
       "         0.00585168, -0.00415543,  0.0100146 , -0.00123945,  0.00206831,\n",
       "        -0.00639839, -0.01557956, -0.0253218 ,  0.02164971,  0.00063577,\n",
       "         0.00084704, -0.0173508 ,  0.01012061,  0.00810064,  0.00084587,\n",
       "         0.0120431 , -0.02901887, -0.02343582,  0.02201673,  0.01766489,\n",
       "         0.00465701, -0.00021066,  0.00105372,  0.01242105, -0.00831776,\n",
       "         0.01698471, -0.00432988,  0.01201073,  0.00654798,  0.0160602 ,\n",
       "        -0.0060024 ,  0.00080517, -0.00703946,  0.01782461, -0.00218907,\n",
       "         0.00239328, -0.00537199, -0.00140036, -0.00140224,  0.0042127 ,\n",
       "         0.00819017, -0.00138694, -0.01349208,  0.02996778,  0.00390551,\n",
       "        -0.00622447, -0.00567628,  0.00255907,  0.01727864,  0.00501832,\n",
       "        -0.00172844,  0.00769529, -0.00553648,  0.00403146, -0.00019117,\n",
       "         0.00478103, -0.0249334 ,  0.0003904 , -0.01209754, -0.00316018,\n",
       "         0.00574593,  0.        , -0.00019697,  0.00689651,  0.00019575,\n",
       "         0.00293479,  0.00058531,  0.01462273, -0.01210609, -0.01984052,\n",
       "         0.01508242, -0.01622682,  0.00457073,  0.00336305, -0.00414044,\n",
       "        -0.00376159,  0.00556435,  0.00909097,  0.01116334, -0.00232429,\n",
       "        -0.00582409,  0.01288811, -0.00231346, -0.01410628,  0.01940412,\n",
       "         0.00672953, -0.00095493, -0.0024852 , -0.01015711,  0.00387214,\n",
       "         0.0162006 , -0.03283356,  0.00902667, -0.00777904, -0.01646413,\n",
       "        -0.00298926,  0.02058769,  0.00097924,  0.00371743, -0.00701754,\n",
       "         0.00176678, -0.02038011, -0.02440492,  0.        , -0.00430591,\n",
       "        -0.01565078, -0.01150626,  0.06052912, -0.02314907,  0.02022468,\n",
       "         0.00080098,  0.00700284,  0.0133121 ,  0.00176471, -0.00939517,\n",
       "        -0.03260229,  0.00388078, -0.00630726,  0.00757574,  0.01381833,\n",
       "         0.00220487, -0.00739998,  0.01108199,  0.        , -0.00059781,\n",
       "         0.00598203, -0.00138751, -0.02421598, -0.00122055,  0.01466399,\n",
       "         0.00802892,  0.02070882,  0.00819356,  0.00406345, -0.01869341,\n",
       "         0.00255304, -0.00411359,  0.02911094,  0.00267582, -0.00133435,\n",
       "         0.01355219,  0.00037667,  0.00263552,  0.00976344, -0.00111562,\n",
       "        -0.00521225,  0.00336826, -0.00167848,  0.00112089,  0.00970332,\n",
       "        -0.00332658,  0.0031522 , -0.00277259, -0.00037073, -0.01149637,\n",
       "         0.00150062,  0.00655559, -0.00967624,  0.00150316,  0.00375236,\n",
       "         0.00878507, -0.00407636,  0.00055812,  0.00409076, -0.00296296,\n",
       "         0.01504461, -0.00695338,  0.01234566,  0.00691665,  0.00686914,\n",
       "         0.00394968, -0.00268237,  0.00376547, -0.00035729,  0.        ,\n",
       "        -0.00411006, -0.01058678, -0.00217626,  0.00236281, -0.04297376,\n",
       "        -0.00511559,  0.01828229, -0.00168319,  0.00374674,  0.00559909,\n",
       "        -0.00092797, -0.00966006,  0.01087972, -0.00964929,  0.00093684,\n",
       "        -0.00636458, -0.00018843, -0.00131901,  0.01301885, -0.00651889,\n",
       "         0.0041245 , -0.00261395,  0.01609886,  0.00276347, -0.00790006,\n",
       "         0.00518517, -0.01639646,  0.00899045, -0.00129942,  0.00092935,\n",
       "         0.00222847,  0.00352046, -0.0062777 , -0.00650314, -0.00187024,\n",
       "        -0.00374744, -0.00977988,  0.00037979,  0.        , -0.00246814,\n",
       "         0.00380664,  0.00208563,  0.007001  , -0.00225485,  0.00753299,\n",
       "         0.00093456,  0.00560222,  0.0081709 , -0.001842  ,  0.01476293,\n",
       "         0.00236401,  0.00816402,  0.01601582, -0.00619904,  0.00302973,\n",
       "         0.00337601, -0.01558351,  0.0590034 ,  0.01019198, -0.01109803,\n",
       "         0.01054241,  0.0079085 , -0.00300502,  0.00267917]),\n",
       " 'r': array([ 0.01082865, -0.00359647,  0.01172264, -0.00779981, -0.00556193,\n",
       "         0.0019666 ,  0.00880195, -0.0025999 , -0.00293306, -0.005892  ,\n",
       "         0.00458569, -0.00458569, -0.00592685,  0.00461283, -0.00296297,\n",
       "         0.00657252,  0.00555285, -0.00719196,  0.00784314, -0.00065119,\n",
       "         0.00714054,  0.01061615,  0.00383268,  0.0076215 ,  0.00410416,\n",
       "         0.00847058,  0.0151918 , -0.01144989, -0.00436685,  0.0040555 ,\n",
       "         0.00031135,  0.02094317,  0.00243525, -0.01039129, -0.00276881,\n",
       "         0.00552997, -0.00830646,  0.        , -0.00402406,  0.004333  ,\n",
       "        -0.00340297,  0.00740967,  0.00704996,  0.00517893, -0.01069199,\n",
       "        -0.00246006, -0.00061598,  0.00184675, -0.00462325,  0.01106005,\n",
       "        -0.01044239,  0.00738244, -0.01295521,  0.01479226,  0.00488249,\n",
       "         0.00060867, -0.00091307,  0.00152135, -0.00213054,  0.00121806,\n",
       "         0.00516007,  0.00332477, -0.00696442, -0.00517893,  0.0151564 ,\n",
       "        -0.0314771 ,  0.00279027, -0.01591539,  0.01653443,  0.00862599,\n",
       "        -0.00461175,  0.01285988,  0.00606617,  0.0185745 ,  0.00709855,\n",
       "         0.01723929,  0.00779115,  0.00287021,  0.        ,  0.00028666,\n",
       "         0.00656861,  0.00595997, -0.00028295,  0.00310858,  0.00112806,\n",
       "         0.00786074, -0.0070156 ,  0.01481517,  0.00663714, -0.00276012,\n",
       "         0.00165706,  0.00082742, -0.00248447,  0.00248447,  0.00604735,\n",
       "         0.00437518,  0.0013633 ,  0.01353201, -0.01571428, -0.02041445,\n",
       "         0.01932163, -0.00768398,  0.00904989,  0.00435849,  0.00433958,\n",
       "        -0.01362419,  0.01254103,  0.02038145, -0.00026545, -0.02554935,\n",
       "         0.02262418, -0.01421504, -0.00922666, -0.03072906,  0.00839868,\n",
       "        -0.01715214, -0.00540306,  0.00851791,  0.00113029,  0.01902155,\n",
       "        -0.00555714,  0.00611119,  0.01293183, -0.00027347,  0.01195986,\n",
       "        -0.01059358,  0.01893486, -0.00429646,  0.01495757,  0.03644334,\n",
       "         0.00382705,  0.01114215,  0.01300997, -0.00174151,  0.08493421,\n",
       "        -0.02501293,  0.01397328, -0.00231542,  0.02495267, -0.0009048 ,\n",
       "        -0.01803901, -0.00577702,  0.01654823,  0.01605468, -0.01514329,\n",
       "         0.01716001,  0.00580363, -0.01254218,  0.00830446,  0.00312428,\n",
       "        -0.01980265, -0.00045465,  0.00272475, -0.0063694 , -0.02425341,\n",
       "         0.00256862, -0.02622716, -0.00071843, -0.02155318,  0.00683103,\n",
       "         0.04794466,  0.00830829, -0.00230092, -0.01018761,  0.02004442,\n",
       "         0.00817817, -0.00430798, -0.01511018, -0.00740913,  0.00648605,\n",
       "        -0.00602137, -0.00980395,  0.0204325 ,  0.01528145,  0.00158317,\n",
       "        -0.01893525, -0.01414837,  0.00512578, -0.00209375,  0.02937343,\n",
       "        -0.01503788,  0.01571605,  0.00585847, -0.00880067, -0.00068017,\n",
       "        -0.01808039, -0.0043976 ,  0.00485941, -0.01371317,  0.01509728,\n",
       "         0.00276241, -0.00091999, -0.00138146,  0.00597286, -0.01826009,\n",
       "         0.02396983,  0.04148677,  0.00043689, -0.00723295,  0.01614702,\n",
       "        -0.00760466, -0.0043715 , -0.00109598, -0.0004386 , -0.00395692,\n",
       "         0.00702371,  0.01949375, -0.01143361,  0.0261257 , -0.01640953,\n",
       "        -0.00668324,  0.00496277, -0.01474441,  0.01107868, -0.01282766,\n",
       "         0.0067604 ,  0.01787882, -0.00836105,  0.01134549,  0.00361207,\n",
       "         0.00760612, -0.002107  , -0.00147757, -0.00402155, -0.00276101,\n",
       "        -0.01607924, -0.00346394,  0.00238276,  0.01503135, -0.013518  ,\n",
       "        -0.00043217,  0.00495851, -0.00366257,  0.0006473 , -0.00324084,\n",
       "         0.00733078,  0.01323107, -0.01087079,  0.00513045,  0.00212988,\n",
       "         0.00297427, -0.0078799 ,  0.00575635,  0.01057316, -0.01078581,\n",
       "         0.00042517,  0.01811341, -0.02280018, -0.02376953, -0.01121505,\n",
       "        -0.01784972,  0.0042683 ,  0.01755408,  0.00614842, -0.00857429,\n",
       "         0.00594388,  0.007435  ,  0.00413085, -0.01112694,  0.00087713,\n",
       "         0.01436369,  0.0045274 ,  0.00514908,  0.01529019, -0.00358919,\n",
       "         0.01093827, -0.00356278,  0.00669599,  0.03080326, -0.00689938,\n",
       "         0.01334969,  0.00020088, -0.00402571, -0.00060533, -0.0132048 ,\n",
       "         0.00224688, -0.00429403,  0.00897605,  0.00909734,  0.00361591,\n",
       "        -0.01596794,  0.00386372,  0.00889072,  0.0092111 ,  0.00655614,\n",
       "        -0.00516177, -0.00039819,  0.00496575, -0.01517302,  0.10801244,\n",
       "        -0.13018359, -0.03239909,  0.02413804,  0.00434556, -0.00248086,\n",
       "         0.00186126, -0.01080195, -0.02967579,  0.00193444,  0.0083396 ,\n",
       "         0.00170217,  0.00888891, -0.00740192,  0.0187157 , -0.00417539,\n",
       "         0.02438643,  0.00285421,  0.01815666, -0.00340447, -0.00724779,\n",
       "        -0.00020212, -0.01281421, -0.00925448,  0.00309432,  0.00881788,\n",
       "        -0.01026071,  0.007603  , -0.00492505, -0.00681192,  0.00062122,\n",
       "         0.00165456, -0.00372671, -0.00728634, -0.00418763, -0.00399452,\n",
       "         0.0253757 , -0.01991352,  0.00376412, -0.0324559 , -0.02976152,\n",
       "        -0.0336565 , -0.02253546,  0.0389405 ,  0.03573793, -0.00174601,\n",
       "        -0.02007789, -0.02003441,  0.0255906 , -0.01316249, -0.01174626,\n",
       "         0.0197982 , -0.02116238,  0.00883456,  0.01477529, -0.01184766,\n",
       "         0.01318013, -0.01228112,  0.03314488, -0.01953314, -0.0138364 ,\n",
       "        -0.0060859 ,  0.00203275, -0.01660828, -0.02508847, -0.06186037,\n",
       "        -0.00778793,  0.0378617 ,  0.00266766,  0.04104476, -0.00395953,\n",
       "        -0.03466632,  0.03045677,  0.01280732, -0.00976529, -0.00210502,\n",
       "        -0.00917327,  0.00141679,  0.01452354,  0.02139734, -0.00342039,\n",
       "        -0.01588612, -0.03374952, -0.02085938,  0.04176278, -0.00447646,\n",
       "         0.00916692,  0.0139407 ,  0.00483368, -0.01247708,  0.0281968 ,\n",
       "         0.05261473, -0.00171715, -0.02369419,  0.01115624, -0.00370496,\n",
       "         0.00174524, -0.01759058, -0.01227564,  0.00716045,  0.00998347,\n",
       "         0.01032184,  0.03034122, -0.00595236,  0.00891532, -0.00763688,\n",
       "        -0.00063902,  0.00085199,  0.0023392 , -0.00810414,  0.00661612,\n",
       "        -0.01370763, -0.02555557,  0.0274946 , -0.01190875,  0.00065322,\n",
       "        -0.0160179 ,  0.01949463, -0.00587396,  0.01644698,  0.0081232 ,\n",
       "         0.00255154, -0.00767431, -0.00278586,  0.01575511,  0.00799501,\n",
       "         0.00543364,  0.00312145, -0.00479016,  0.00893698, -0.00144951,\n",
       "        -0.00707011, -0.01365707,  0.01553344,  0.00020831, -0.03087577,\n",
       "        -0.01471251, -0.02874394,  0.00871025, -0.03899839,  0.02014261,\n",
       "        -0.01714132, -0.00438956,  0.01379654, -0.0163466 ,  0.00740059,\n",
       "        -0.00461897,  0.01539017, -0.01654823, -0.00721022,  0.00488996,\n",
       "        -0.00209278, -0.02928877, -0.00987603,  0.00555222, -0.01528231,\n",
       "        -0.01775635, -0.00824484, -0.0133857 ,  0.00076246,  0.02682199,\n",
       "         0.        ,  0.03332423,  0.00524938, -0.00453186,  0.02222309,\n",
       "        -0.00939638,  0.        ,  0.01243133, -0.01266733, -0.03117011,\n",
       "         0.02501326, -0.00906704, -0.01545922, -0.00683938,  0.00975622,\n",
       "        -0.02382529,  0.00570082, -0.01368689,  0.04794264, -0.01346493,\n",
       "        -0.01438523, -0.00640559, -0.01845894,  0.02829675,  0.01842918,\n",
       "         0.0267884 , -0.00257644, -0.00375938, -0.0070872 ,  0.02204073,\n",
       "         0.02065717,  0.00701762,  0.01477859,  0.01697002,  0.00196485,\n",
       "         0.03050069, -0.00169386, -0.00531182, -0.00576865,  0.00725879,\n",
       "         0.01036941,  0.00357252,  0.00918785,  0.00951598, -0.00020589,\n",
       "        -0.0018551 , -0.00061917,  0.00412032, -0.02751318,  0.00610981,\n",
       "        -0.00315561, -0.00570525, -0.00339631,  0.02104012,  0.00249538,\n",
       "        -0.02311034,  0.02497775, -0.01883299,  0.00337411, -0.01998789,\n",
       "        -0.01210043,  0.00542007,  0.00302243,  0.00815807, -0.00578966,\n",
       "         0.00984384, -0.01135035,  0.0134776 , -0.0141239 ,  0.01899938,\n",
       "        -0.00615128,  0.00699678, -0.00317431,  0.00507396,  0.00902704,\n",
       "         0.00583463, -0.00416409,  0.00996479, -0.00124022,  0.00206618,\n",
       "        -0.00641895, -0.0157022 , -0.02564791,  0.02141868,  0.00063557,\n",
       "         0.00084668, -0.01750309,  0.01006974,  0.00806801,  0.00084551,\n",
       "         0.01197116, -0.02944825, -0.02371481,  0.02177787,  0.01751068,\n",
       "         0.0046462 , -0.00021068,  0.00105316,  0.01234454, -0.00835254,\n",
       "         0.01684209, -0.00433928,  0.01193917,  0.00652664,  0.01593259,\n",
       "        -0.00602049,  0.00080485, -0.00706435,  0.01766761, -0.00219147,\n",
       "         0.00239042, -0.00538647, -0.00140134, -0.00140323,  0.00420385,\n",
       "         0.00815681, -0.00138791, -0.01358393,  0.02952752,  0.0038979 ,\n",
       "        -0.00624392, -0.00569245,  0.00255581,  0.01713106,  0.00500577,\n",
       "        -0.00172994,  0.00766583, -0.00555187,  0.00402336, -0.00019118,\n",
       "         0.00476964, -0.02524951,  0.00039032, -0.01217131, -0.00316519,\n",
       "         0.00572948,  0.        , -0.00019699,  0.00687284,  0.00019573,\n",
       "         0.00293049,  0.00058514,  0.01451685, -0.01217997, -0.02003998,\n",
       "         0.01496981, -0.01635992,  0.00456031,  0.0033574 , -0.00414903,\n",
       "        -0.00376868,  0.00554892,  0.00904989,  0.01110149, -0.00232699,\n",
       "        -0.00584112,  0.01280576, -0.00231614, -0.01420672,  0.01921826,\n",
       "         0.00670699, -0.00095538, -0.0024883 , -0.01020905,  0.00386466,\n",
       "         0.01607077, -0.03338467,  0.00898617, -0.00780945, -0.01660117,\n",
       "        -0.00299374,  0.02037863,  0.00097876,  0.00371054, -0.00704228,\n",
       "         0.00176523, -0.02059065, -0.02470766,  0.        , -0.0043152 ,\n",
       "        -0.01577455, -0.01157296,  0.05876795, -0.02342122,  0.02002288,\n",
       "         0.00080066,  0.00697844,  0.01322427,  0.00176315, -0.00943958,\n",
       "        -0.03314559,  0.00387327, -0.00632724,  0.00754719,  0.01372373,\n",
       "         0.00220244, -0.0074275 ,  0.01102103,  0.        , -0.00059799,\n",
       "         0.00596421, -0.00138848, -0.02451401, -0.00122129,  0.01455752,\n",
       "         0.00799686,  0.02049731,  0.00816018,  0.00405521, -0.01887034,\n",
       "         0.00254979, -0.00412208,  0.02869526,  0.00267225, -0.00133524,\n",
       "         0.01346118,  0.0003766 ,  0.00263206,  0.00971609, -0.00111624,\n",
       "        -0.00522588,  0.0033626 , -0.00167989,  0.00112026,  0.00965655,\n",
       "        -0.00333212,  0.00314724, -0.00277644, -0.0003708 , -0.01156296,\n",
       "         0.00149949,  0.0065342 , -0.00972336,  0.00150203,  0.00374534,\n",
       "         0.0087467 , -0.00408469,  0.00055797,  0.00408241, -0.00296736,\n",
       "         0.01493257, -0.00697766,  0.01227007,  0.00689284,  0.00684566,\n",
       "         0.0039419 , -0.00268597,  0.00375839, -0.00035735,  0.        ,\n",
       "        -0.00411853, -0.01064321, -0.00217863,  0.00236003, -0.04392447,\n",
       "        -0.00512872,  0.01811718, -0.0016846 ,  0.00373974,  0.00558347,\n",
       "        -0.0009284 , -0.00970702,  0.01082096, -0.00969614,  0.0009364 ,\n",
       "        -0.00638492, -0.00018845, -0.00131988,  0.01293483, -0.00654023,\n",
       "         0.00411602, -0.00261737,  0.01597065,  0.00275966, -0.00793143,\n",
       "         0.00517177, -0.01653237,  0.00895027, -0.00130027,  0.00092892,\n",
       "         0.00222599,  0.00351427, -0.00629748, -0.00652438, -0.001872  ,\n",
       "        -0.00375448, -0.00982801,  0.00037972,  0.        , -0.00247119,\n",
       "         0.00379942,  0.00208346,  0.00697661, -0.00225739,  0.00750476,\n",
       "         0.00093412,  0.00558659,  0.0081377 , -0.0018437 ,  0.01465502,\n",
       "         0.00236122,  0.00813088,  0.01588892, -0.00621834,  0.00302515,\n",
       "         0.00337033, -0.01570621,  0.05732828,  0.01014039, -0.01116008,\n",
       "         0.01048722,  0.00787739, -0.00300955,  0.00267559]),\n",
       " 'r_avg': 0.0008911844478719813}"
      ]
     },
     "execution_count": 201,
     "metadata": {},
     "output_type": "execute_result"
    }
   ],
   "source": [
    "finalStockData['ZTS']"
   ]
  },
  {
   "cell_type": "code",
   "execution_count": null,
   "metadata": {},
   "outputs": [],
   "source": []
  }
 ],
 "metadata": {
  "kernelspec": {
   "display_name": "Python 3",
   "language": "python",
   "name": "python3"
  },
  "language_info": {
   "codemirror_mode": {
    "name": "ipython",
    "version": 3
   },
   "file_extension": ".py",
   "mimetype": "text/x-python",
   "name": "python",
   "nbconvert_exporter": "python",
   "pygments_lexer": "ipython3",
   "version": "3.6.3"
  }
 },
 "nbformat": 4,
 "nbformat_minor": 2
}
